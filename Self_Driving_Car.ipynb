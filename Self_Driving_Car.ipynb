{
  "nbformat": 4,
  "nbformat_minor": 0,
  "metadata": {
    "colab": {
      "provenance": [],
      "include_colab_link": true
    },
    "kernelspec": {
      "name": "python3",
      "display_name": "Python 3"
    }
  },
  "cells": [
    {
      "cell_type": "markdown",
      "metadata": {
        "id": "view-in-github",
        "colab_type": "text"
      },
      "source": [
        "<a href=\"https://colab.research.google.com/github/No1Talent/DLSelfDrivingCars/blob/master/Self_Driving_Car.ipynb\" target=\"_parent\"><img src=\"https://colab.research.google.com/assets/colab-badge.svg\" alt=\"Open In Colab\"/></a>"
      ]
    },
    {
      "cell_type": "markdown",
      "source": [
        "# Data Prep"
      ],
      "metadata": {
        "id": "pyYtIU_3f5Tf"
      }
    },
    {
      "cell_type": "markdown",
      "source": [
        "## Pack and Data Import"
      ],
      "metadata": {
        "id": "mF7JDUpW2fPe"
      }
    },
    {
      "metadata": {
        "id": "2BHPjDjuRYQK",
        "outputId": "abb8eb18-3646-41d3-8eb6-bbece8ebb5a8",
        "colab": {
          "base_uri": "https://localhost:8080/"
        }
      },
      "cell_type": "code",
      "source": [
        "import numpy as np\n",
        "import pandas as pd\n",
        "import matplotlib.pyplot as plt\n",
        "import os\n",
        "import torch\n",
        "import torch.nn as nn\n",
        "import torch.nn.init as init\n",
        "import torch.optim as optim\n",
        "import torch.nn.functional as F\n",
        "import torchvision\n",
        "from torchvision import models,transforms,datasets # handling deep learning models, image transformations, and datasets\n",
        "\n",
        "device = torch.device(\"cuda:0\" if torch.cuda.is_available() else \"cpu\")\n",
        "print('Using gpu: %s ' % torch.cuda.is_available())"
      ],
      "execution_count": 2,
      "outputs": [
        {
          "output_type": "stream",
          "name": "stdout",
          "text": [
            "Using gpu: False \n"
          ]
        }
      ]
    },
    {
      "cell_type": "markdown",
      "source": [
        "Initial Import\n",
        "\n",
        "```\n",
        "# download and unzip\n",
        "!wget https://d17h27t6h515a5.cloudfront.net/topher/2016/December/584f6edd_data/data.zip\n",
        "!unzip data.zip\n",
        "%ls\n",
        "\n",
        "# remove unnecessary\n",
        "!rm data.zip\n",
        "!rm -r __MACOSX\n",
        "\n",
        "# save data to MyDrive\n",
        "from google.colab import drive\n",
        "drive.mount('/content/drive')\n",
        "!mv data \"/content/drive/MyDrive/\"\n",
        "```\n"
      ],
      "metadata": {
        "id": "nRWqFadFdxhk"
      }
    },
    {
      "cell_type": "code",
      "source": [
        "from google.colab import drive\n",
        "drive.mount('/content/gdrive')\n",
        "import os\n",
        "os.chdir('/content/gdrive/MyDrive/')\n",
        "\n",
        "%pwd"
      ],
      "metadata": {
        "colab": {
          "base_uri": "https://localhost:8080/",
          "height": 0
        },
        "id": "gkSL2AscdCao",
        "outputId": "1f64a156-7292-40d9-cfc5-9f1d138ec2ef"
      },
      "execution_count": 3,
      "outputs": [
        {
          "output_type": "stream",
          "name": "stdout",
          "text": [
            "Mounted at /content/gdrive\n"
          ]
        },
        {
          "output_type": "execute_result",
          "data": {
            "text/plain": [
              "'/content/gdrive/MyDrive'"
            ],
            "application/vnd.google.colaboratory.intrinsic+json": {
              "type": "string"
            }
          },
          "metadata": {},
          "execution_count": 3
        }
      ]
    },
    {
      "metadata": {
        "id": "LVVRptHQRlmz"
      },
      "cell_type": "code",
      "source": [
        "import csv\n",
        "from torch.utils.data import random_split\n",
        "\n",
        "samples = []\n",
        "with open('data/driving_log.csv') as csvfile:\n",
        "    reader = csv.reader(csvfile)\n",
        "    next(reader, None)\n",
        "    for line in reader:\n",
        "        samples.append(line)\n",
        "\n",
        "# Split the data into training and validation sets\n",
        "train_len = int(0.8 * len(samples))\n",
        "train_samples, validation_samples = random_split(samples, [train_len, len(samples) - train_len])"
      ],
      "execution_count": 4,
      "outputs": []
    },
    {
      "cell_type": "code",
      "source": [
        "# samples.head\n",
        "len(samples), samples[:1]"
      ],
      "metadata": {
        "id": "6MeYgSBEfBtR",
        "outputId": "158a1a69-c113-4155-e309-f236b1864086",
        "colab": {
          "base_uri": "https://localhost:8080/"
        }
      },
      "execution_count": 5,
      "outputs": [
        {
          "output_type": "execute_result",
          "data": {
            "text/plain": [
              "(8036,\n",
              " [['IMG/center_2016_12_01_13_30_48_287.jpg',\n",
              "   ' IMG/left_2016_12_01_13_30_48_287.jpg',\n",
              "   ' IMG/right_2016_12_01_13_30_48_287.jpg',\n",
              "   ' 0',\n",
              "   ' 0',\n",
              "   ' 0',\n",
              "   ' 22.14829']])"
            ]
          },
          "metadata": {},
          "execution_count": 5
        }
      ]
    },
    {
      "cell_type": "code",
      "source": [
        "data = pd.read_csv('data/driving_log.csv')\n",
        "data.head()\n",
        "# data.iloc[1]"
      ],
      "metadata": {
        "id": "_ulMCNIPcVEj",
        "outputId": "03d414ae-7ad1-4750-8527-a3619820801d",
        "colab": {
          "base_uri": "https://localhost:8080/",
          "height": 0
        }
      },
      "execution_count": 6,
      "outputs": [
        {
          "output_type": "execute_result",
          "data": {
            "text/plain": [
              "                                   center  \\\n",
              "0  IMG/center_2016_12_01_13_30_48_287.jpg   \n",
              "1  IMG/center_2016_12_01_13_30_48_404.jpg   \n",
              "2  IMG/center_2016_12_01_13_31_12_937.jpg   \n",
              "3  IMG/center_2016_12_01_13_31_13_037.jpg   \n",
              "4  IMG/center_2016_12_01_13_31_13_177.jpg   \n",
              "\n",
              "                                    left  \\\n",
              "0   IMG/left_2016_12_01_13_30_48_287.jpg   \n",
              "1   IMG/left_2016_12_01_13_30_48_404.jpg   \n",
              "2   IMG/left_2016_12_01_13_31_12_937.jpg   \n",
              "3   IMG/left_2016_12_01_13_31_13_037.jpg   \n",
              "4   IMG/left_2016_12_01_13_31_13_177.jpg   \n",
              "\n",
              "                                    right  steering  throttle  brake  \\\n",
              "0   IMG/right_2016_12_01_13_30_48_287.jpg       0.0       0.0    0.0   \n",
              "1   IMG/right_2016_12_01_13_30_48_404.jpg       0.0       0.0    0.0   \n",
              "2   IMG/right_2016_12_01_13_31_12_937.jpg       0.0       0.0    0.0   \n",
              "3   IMG/right_2016_12_01_13_31_13_037.jpg       0.0       0.0    0.0   \n",
              "4   IMG/right_2016_12_01_13_31_13_177.jpg       0.0       0.0    0.0   \n",
              "\n",
              "       speed  \n",
              "0  22.148290  \n",
              "1  21.879630  \n",
              "2   1.453011  \n",
              "3   1.438419  \n",
              "4   1.418236  "
            ],
            "text/html": [
              "\n",
              "  <div id=\"df-de596005-3cb0-414b-8927-9cf02db952a8\" class=\"colab-df-container\">\n",
              "    <div>\n",
              "<style scoped>\n",
              "    .dataframe tbody tr th:only-of-type {\n",
              "        vertical-align: middle;\n",
              "    }\n",
              "\n",
              "    .dataframe tbody tr th {\n",
              "        vertical-align: top;\n",
              "    }\n",
              "\n",
              "    .dataframe thead th {\n",
              "        text-align: right;\n",
              "    }\n",
              "</style>\n",
              "<table border=\"1\" class=\"dataframe\">\n",
              "  <thead>\n",
              "    <tr style=\"text-align: right;\">\n",
              "      <th></th>\n",
              "      <th>center</th>\n",
              "      <th>left</th>\n",
              "      <th>right</th>\n",
              "      <th>steering</th>\n",
              "      <th>throttle</th>\n",
              "      <th>brake</th>\n",
              "      <th>speed</th>\n",
              "    </tr>\n",
              "  </thead>\n",
              "  <tbody>\n",
              "    <tr>\n",
              "      <th>0</th>\n",
              "      <td>IMG/center_2016_12_01_13_30_48_287.jpg</td>\n",
              "      <td>IMG/left_2016_12_01_13_30_48_287.jpg</td>\n",
              "      <td>IMG/right_2016_12_01_13_30_48_287.jpg</td>\n",
              "      <td>0.0</td>\n",
              "      <td>0.0</td>\n",
              "      <td>0.0</td>\n",
              "      <td>22.148290</td>\n",
              "    </tr>\n",
              "    <tr>\n",
              "      <th>1</th>\n",
              "      <td>IMG/center_2016_12_01_13_30_48_404.jpg</td>\n",
              "      <td>IMG/left_2016_12_01_13_30_48_404.jpg</td>\n",
              "      <td>IMG/right_2016_12_01_13_30_48_404.jpg</td>\n",
              "      <td>0.0</td>\n",
              "      <td>0.0</td>\n",
              "      <td>0.0</td>\n",
              "      <td>21.879630</td>\n",
              "    </tr>\n",
              "    <tr>\n",
              "      <th>2</th>\n",
              "      <td>IMG/center_2016_12_01_13_31_12_937.jpg</td>\n",
              "      <td>IMG/left_2016_12_01_13_31_12_937.jpg</td>\n",
              "      <td>IMG/right_2016_12_01_13_31_12_937.jpg</td>\n",
              "      <td>0.0</td>\n",
              "      <td>0.0</td>\n",
              "      <td>0.0</td>\n",
              "      <td>1.453011</td>\n",
              "    </tr>\n",
              "    <tr>\n",
              "      <th>3</th>\n",
              "      <td>IMG/center_2016_12_01_13_31_13_037.jpg</td>\n",
              "      <td>IMG/left_2016_12_01_13_31_13_037.jpg</td>\n",
              "      <td>IMG/right_2016_12_01_13_31_13_037.jpg</td>\n",
              "      <td>0.0</td>\n",
              "      <td>0.0</td>\n",
              "      <td>0.0</td>\n",
              "      <td>1.438419</td>\n",
              "    </tr>\n",
              "    <tr>\n",
              "      <th>4</th>\n",
              "      <td>IMG/center_2016_12_01_13_31_13_177.jpg</td>\n",
              "      <td>IMG/left_2016_12_01_13_31_13_177.jpg</td>\n",
              "      <td>IMG/right_2016_12_01_13_31_13_177.jpg</td>\n",
              "      <td>0.0</td>\n",
              "      <td>0.0</td>\n",
              "      <td>0.0</td>\n",
              "      <td>1.418236</td>\n",
              "    </tr>\n",
              "  </tbody>\n",
              "</table>\n",
              "</div>\n",
              "    <div class=\"colab-df-buttons\">\n",
              "\n",
              "  <div class=\"colab-df-container\">\n",
              "    <button class=\"colab-df-convert\" onclick=\"convertToInteractive('df-de596005-3cb0-414b-8927-9cf02db952a8')\"\n",
              "            title=\"Convert this dataframe to an interactive table.\"\n",
              "            style=\"display:none;\">\n",
              "\n",
              "  <svg xmlns=\"http://www.w3.org/2000/svg\" height=\"24px\" viewBox=\"0 -960 960 960\">\n",
              "    <path d=\"M120-120v-720h720v720H120Zm60-500h600v-160H180v160Zm220 220h160v-160H400v160Zm0 220h160v-160H400v160ZM180-400h160v-160H180v160Zm440 0h160v-160H620v160ZM180-180h160v-160H180v160Zm440 0h160v-160H620v160Z\"/>\n",
              "  </svg>\n",
              "    </button>\n",
              "\n",
              "  <style>\n",
              "    .colab-df-container {\n",
              "      display:flex;\n",
              "      gap: 12px;\n",
              "    }\n",
              "\n",
              "    .colab-df-convert {\n",
              "      background-color: #E8F0FE;\n",
              "      border: none;\n",
              "      border-radius: 50%;\n",
              "      cursor: pointer;\n",
              "      display: none;\n",
              "      fill: #1967D2;\n",
              "      height: 32px;\n",
              "      padding: 0 0 0 0;\n",
              "      width: 32px;\n",
              "    }\n",
              "\n",
              "    .colab-df-convert:hover {\n",
              "      background-color: #E2EBFA;\n",
              "      box-shadow: 0px 1px 2px rgba(60, 64, 67, 0.3), 0px 1px 3px 1px rgba(60, 64, 67, 0.15);\n",
              "      fill: #174EA6;\n",
              "    }\n",
              "\n",
              "    .colab-df-buttons div {\n",
              "      margin-bottom: 4px;\n",
              "    }\n",
              "\n",
              "    [theme=dark] .colab-df-convert {\n",
              "      background-color: #3B4455;\n",
              "      fill: #D2E3FC;\n",
              "    }\n",
              "\n",
              "    [theme=dark] .colab-df-convert:hover {\n",
              "      background-color: #434B5C;\n",
              "      box-shadow: 0px 1px 3px 1px rgba(0, 0, 0, 0.15);\n",
              "      filter: drop-shadow(0px 1px 2px rgba(0, 0, 0, 0.3));\n",
              "      fill: #FFFFFF;\n",
              "    }\n",
              "  </style>\n",
              "\n",
              "    <script>\n",
              "      const buttonEl =\n",
              "        document.querySelector('#df-de596005-3cb0-414b-8927-9cf02db952a8 button.colab-df-convert');\n",
              "      buttonEl.style.display =\n",
              "        google.colab.kernel.accessAllowed ? 'block' : 'none';\n",
              "\n",
              "      async function convertToInteractive(key) {\n",
              "        const element = document.querySelector('#df-de596005-3cb0-414b-8927-9cf02db952a8');\n",
              "        const dataTable =\n",
              "          await google.colab.kernel.invokeFunction('convertToInteractive',\n",
              "                                                    [key], {});\n",
              "        if (!dataTable) return;\n",
              "\n",
              "        const docLinkHtml = 'Like what you see? Visit the ' +\n",
              "          '<a target=\"_blank\" href=https://colab.research.google.com/notebooks/data_table.ipynb>data table notebook</a>'\n",
              "          + ' to learn more about interactive tables.';\n",
              "        element.innerHTML = '';\n",
              "        dataTable['output_type'] = 'display_data';\n",
              "        await google.colab.output.renderOutput(dataTable, element);\n",
              "        const docLink = document.createElement('div');\n",
              "        docLink.innerHTML = docLinkHtml;\n",
              "        element.appendChild(docLink);\n",
              "      }\n",
              "    </script>\n",
              "  </div>\n",
              "\n",
              "\n",
              "<div id=\"df-8a46928e-77d8-4b17-a860-b46753f46f98\">\n",
              "  <button class=\"colab-df-quickchart\" onclick=\"quickchart('df-8a46928e-77d8-4b17-a860-b46753f46f98')\"\n",
              "            title=\"Suggest charts\"\n",
              "            style=\"display:none;\">\n",
              "\n",
              "<svg xmlns=\"http://www.w3.org/2000/svg\" height=\"24px\"viewBox=\"0 0 24 24\"\n",
              "     width=\"24px\">\n",
              "    <g>\n",
              "        <path d=\"M19 3H5c-1.1 0-2 .9-2 2v14c0 1.1.9 2 2 2h14c1.1 0 2-.9 2-2V5c0-1.1-.9-2-2-2zM9 17H7v-7h2v7zm4 0h-2V7h2v10zm4 0h-2v-4h2v4z\"/>\n",
              "    </g>\n",
              "</svg>\n",
              "  </button>\n",
              "\n",
              "<style>\n",
              "  .colab-df-quickchart {\n",
              "      --bg-color: #E8F0FE;\n",
              "      --fill-color: #1967D2;\n",
              "      --hover-bg-color: #E2EBFA;\n",
              "      --hover-fill-color: #174EA6;\n",
              "      --disabled-fill-color: #AAA;\n",
              "      --disabled-bg-color: #DDD;\n",
              "  }\n",
              "\n",
              "  [theme=dark] .colab-df-quickchart {\n",
              "      --bg-color: #3B4455;\n",
              "      --fill-color: #D2E3FC;\n",
              "      --hover-bg-color: #434B5C;\n",
              "      --hover-fill-color: #FFFFFF;\n",
              "      --disabled-bg-color: #3B4455;\n",
              "      --disabled-fill-color: #666;\n",
              "  }\n",
              "\n",
              "  .colab-df-quickchart {\n",
              "    background-color: var(--bg-color);\n",
              "    border: none;\n",
              "    border-radius: 50%;\n",
              "    cursor: pointer;\n",
              "    display: none;\n",
              "    fill: var(--fill-color);\n",
              "    height: 32px;\n",
              "    padding: 0;\n",
              "    width: 32px;\n",
              "  }\n",
              "\n",
              "  .colab-df-quickchart:hover {\n",
              "    background-color: var(--hover-bg-color);\n",
              "    box-shadow: 0 1px 2px rgba(60, 64, 67, 0.3), 0 1px 3px 1px rgba(60, 64, 67, 0.15);\n",
              "    fill: var(--button-hover-fill-color);\n",
              "  }\n",
              "\n",
              "  .colab-df-quickchart-complete:disabled,\n",
              "  .colab-df-quickchart-complete:disabled:hover {\n",
              "    background-color: var(--disabled-bg-color);\n",
              "    fill: var(--disabled-fill-color);\n",
              "    box-shadow: none;\n",
              "  }\n",
              "\n",
              "  .colab-df-spinner {\n",
              "    border: 2px solid var(--fill-color);\n",
              "    border-color: transparent;\n",
              "    border-bottom-color: var(--fill-color);\n",
              "    animation:\n",
              "      spin 1s steps(1) infinite;\n",
              "  }\n",
              "\n",
              "  @keyframes spin {\n",
              "    0% {\n",
              "      border-color: transparent;\n",
              "      border-bottom-color: var(--fill-color);\n",
              "      border-left-color: var(--fill-color);\n",
              "    }\n",
              "    20% {\n",
              "      border-color: transparent;\n",
              "      border-left-color: var(--fill-color);\n",
              "      border-top-color: var(--fill-color);\n",
              "    }\n",
              "    30% {\n",
              "      border-color: transparent;\n",
              "      border-left-color: var(--fill-color);\n",
              "      border-top-color: var(--fill-color);\n",
              "      border-right-color: var(--fill-color);\n",
              "    }\n",
              "    40% {\n",
              "      border-color: transparent;\n",
              "      border-right-color: var(--fill-color);\n",
              "      border-top-color: var(--fill-color);\n",
              "    }\n",
              "    60% {\n",
              "      border-color: transparent;\n",
              "      border-right-color: var(--fill-color);\n",
              "    }\n",
              "    80% {\n",
              "      border-color: transparent;\n",
              "      border-right-color: var(--fill-color);\n",
              "      border-bottom-color: var(--fill-color);\n",
              "    }\n",
              "    90% {\n",
              "      border-color: transparent;\n",
              "      border-bottom-color: var(--fill-color);\n",
              "    }\n",
              "  }\n",
              "</style>\n",
              "\n",
              "  <script>\n",
              "    async function quickchart(key) {\n",
              "      const quickchartButtonEl =\n",
              "        document.querySelector('#' + key + ' button');\n",
              "      quickchartButtonEl.disabled = true;  // To prevent multiple clicks.\n",
              "      quickchartButtonEl.classList.add('colab-df-spinner');\n",
              "      try {\n",
              "        const charts = await google.colab.kernel.invokeFunction(\n",
              "            'suggestCharts', [key], {});\n",
              "      } catch (error) {\n",
              "        console.error('Error during call to suggestCharts:', error);\n",
              "      }\n",
              "      quickchartButtonEl.classList.remove('colab-df-spinner');\n",
              "      quickchartButtonEl.classList.add('colab-df-quickchart-complete');\n",
              "    }\n",
              "    (() => {\n",
              "      let quickchartButtonEl =\n",
              "        document.querySelector('#df-8a46928e-77d8-4b17-a860-b46753f46f98 button');\n",
              "      quickchartButtonEl.style.display =\n",
              "        google.colab.kernel.accessAllowed ? 'block' : 'none';\n",
              "    })();\n",
              "  </script>\n",
              "</div>\n",
              "    </div>\n",
              "  </div>\n"
            ]
          },
          "metadata": {},
          "execution_count": 6
        }
      ]
    },
    {
      "cell_type": "markdown",
      "source": [
        "## Balanced Sampling"
      ],
      "metadata": {
        "id": "5pN0YLH9cOp7"
      }
    },
    {
      "cell_type": "code",
      "source": [
        "# First, identify the indices where steering is 0\n",
        "zero_steering_indices = data[data['steering'] == 0].index\n",
        "\n",
        "# Calculate the number of indices to drop (30% of the total zero steering data)\n",
        "num_indices_to_drop = int(0.5 * len(zero_steering_indices))\n",
        "\n",
        "# Randomly select indices to drop\n",
        "indices_to_drop = np.random.choice(zero_steering_indices, size=num_indices_to_drop, replace=False)\n",
        "\n",
        "# Drop the selected indices from the DataFrame\n",
        "data_ds = data.drop(indices_to_drop)"
      ],
      "metadata": {
        "id": "s_JgOvuv2RlF"
      },
      "execution_count": 7,
      "outputs": []
    },
    {
      "cell_type": "code",
      "source": [
        "# data[\"steering\"].describe()\n",
        "# plt.hist(data[\"steering\"])\n",
        "import matplotlib.pyplot as plt\n",
        "import seaborn as sns\n",
        "\n",
        "sns.set(style = 'whitegrid')\n",
        "plt.figure(figsize = (15,9))\n",
        "sns.histplot(data[\"steering\"], bins = 50)"
      ],
      "metadata": {
        "colab": {
          "base_uri": "https://localhost:8080/",
          "height": 0
        },
        "id": "NE4hLOZvcnXM",
        "outputId": "a9d1dbd3-358b-4885-cfdf-4d8f2b62caec"
      },
      "execution_count": 8,
      "outputs": [
        {
          "output_type": "execute_result",
          "data": {
            "text/plain": [
              "<Axes: xlabel='steering', ylabel='Count'>"
            ]
          },
          "metadata": {},
          "execution_count": 8
        },
        {
          "output_type": "display_data",
          "data": {
            "text/plain": [
              "<Figure size 1500x900 with 1 Axes>"
            ],
            "image/png": "[encoded data removed]"
          },
          "metadata": {}
        }
      ]
    },
    {
      "cell_type": "code",
      "source": [
        "import matplotlib.pyplot as plt\n",
        "import seaborn as sns\n",
        "\n",
        "sns.set(style = 'whitegrid')\n",
        "plt.figure(figsize = (15,9))\n",
        "sns.histplot(data_ds[\"steering\"], bins = 50)"
      ],
      "metadata": {
        "colab": {
          "base_uri": "https://localhost:8080/",
          "height": 0
        },
        "id": "1PhvoWAj2wp-",
        "outputId": "c781c4b2-1112-4953-c033-a22999b4523a"
      },
      "execution_count": 9,
      "outputs": [
        {
          "output_type": "execute_result",
          "data": {
            "text/plain": [
              "<Axes: xlabel='steering', ylabel='Count'>"
            ]
          },
          "metadata": {},
          "execution_count": 9
        },
        {
          "output_type": "display_data",
          "data": {
            "text/plain": [
              "<Figure size 1500x900 with 1 Axes>"
            ],
            "image/png": "[encoded data removed]"
          },
          "metadata": {}
        }
      ]
    },
    {
      "cell_type": "markdown",
      "source": [
        "# Image Preprocessing and Augmentation\n",
        "\n",
        "[reference](https://pytorch.org/vision/main/auto_examples/transforms/plot_transforms_getting_started.html#sphx-glr-auto-examples-transforms-plot-transforms-getting-started-py)"
      ],
      "metadata": {
        "id": "s1L-V-fff_-c"
      }
    },
    {
      "metadata": {
        "id": "UsFgB26hSmWN"
      },
      "cell_type": "code",
      "source": [
        "from torchvision.io import read_image\n",
        "\n",
        "def path_to_img(img_path):\n",
        "  img_path = str(img_path)\n",
        "  img = read_image(f'data/IMG/{img_path.split(\"/\")[-1]}')\n",
        "  return img\n",
        "\n",
        "def cropping(img):\n",
        "  img = img[:, 20:55, :] #picture-level\n",
        "  # img = img[: ,60:140, :] # batch-level [RGB0:3, row_from:to, col_from: to]"
      ],
      "execution_count": 10,
      "outputs": []
    },
    {
      "cell_type": "code",
      "source": [
        "from torchvision import models,transforms,datasets\n",
        "from torchvision.transforms import v2\n",
        "\n",
        "transformations = v2.Compose([\n",
        "    v2.ToTensor(),  # Convert to tensor, only needed if you had a PIL image\n",
        "    # v2.ToDtype(torch.uint8, scale=True),  # input are already uint8\n",
        "    v2.Resize(size=(66,200), antialias=True), # v2.RandomResizedCrop(size=(224, 224), antialias=True)\n",
        "    v2.RandomHorizontalFlip(p=0.5),\n",
        "    v2.RandomResizedCrop(size=(66, 200), scale=(0.8, 1.0), ratio=(0.75, 1.333), interpolation=2),\n",
        "    v2.ToDtype(torch.float32, scale=True)  # Normalize expects float input\n",
        "    #v2.Normalize(mean=[0.485, 0.456, 0.406], std=[0.229, 0.224, 0.225]), # to improve GPU processing speed\n",
        "])\n",
        "# antialias=True to smooth the edges of images or graphics to reduce aliasing artifacts, such as jagged edges or flickering\n",
        "\n",
        "\n",
        "'''\n",
        "import torchvision.transforms as transforms\n",
        "transformations = transforms.Compose([transforms.Lambda(lambda x: (x / 255.0) - 0.5)])\n",
        "'''"
      ],
      "metadata": {
        "colab": {
          "base_uri": "https://localhost:8080/",
          "height": 109
        },
        "id": "9xVkbc5ekuG6",
        "outputId": "a62e3c89-6ba3-4853-dacd-69c47964ce84"
      },
      "execution_count": 11,
      "outputs": [
        {
          "output_type": "stream",
          "name": "stderr",
          "text": [
            "/usr/local/lib/python3.10/dist-packages/torchvision/transforms/v2/_deprecated.py:43: UserWarning: The transform `ToTensor()` is deprecated and will be removed in a future release. Instead, please use `v2.Compose([v2.ToImage(), v2.ToDtype(torch.float32, scale=True)])`.\n",
            "  warnings.warn(\n"
          ]
        },
        {
          "output_type": "execute_result",
          "data": {
            "text/plain": [
              "'\\nimport torchvision.transforms as transforms\\ntransformations = transforms.Compose([transforms.Lambda(lambda x: (x / 255.0) - 0.5)])\\n'"
            ],
            "application/vnd.google.colaboratory.intrinsic+json": {
              "type": "string"
            }
          },
          "metadata": {},
          "execution_count": 11
        }
      ]
    },
    {
      "cell_type": "code",
      "source": [
        "import matplotlib.pyplot as plt\n",
        "import numpy as np\n",
        "\n",
        "# Define a function to display images\n",
        "# overwrite plt.imshow\n",
        "def imshow(img, title=None, normalization = False):\n",
        "  img = img.numpy().transpose((1, 2, 0))\n",
        "  if normalization:\n",
        "    mean = np.array([0.485, 0.456, 0.406])\n",
        "    std = np.array([0.229, 0.224, 0.225])\n",
        "    img = std * img + mean\n",
        "  img = np.clip(img,0,1)\n",
        "  # Clipping input data to the valid range for imshow with RGB data\n",
        "  # [0,1] for floats or [0,255] for integers\n",
        "  plt.imshow(img)\n",
        "  if title is not None:\n",
        "    plt.title(title)"
      ],
      "metadata": {
        "id": "eAOeB0Z4HMge"
      },
      "execution_count": 12,
      "outputs": []
    },
    {
      "cell_type": "code",
      "source": [
        "# sum it up\n",
        "'''\n",
        "def random_flip(img, angle):\n",
        "  if np.random.rand() < 0.5:\n",
        "    img = cv2.flip(img, 1)\n",
        "    angle = -angle\n",
        "  return img, angle\n",
        "\n",
        "    if np.random.rand() < 0.5:\n",
        "    img, angle = random_flip(img, angle)\n",
        "'''\n",
        "\n",
        "def random_augment(img, angle):\n",
        "  v2.RandomHorizontalFlip(p=0.5)\n",
        "  if np.random.rand() < 0.5:\n",
        "    jitter = v2.ColorJitter(brightness=.5, hue=.3)\n",
        "    img = jitter(img)\n",
        "  if np.random.rand() < 0.5:\n",
        "    blurrer = v2.GaussianBlur(kernel_size=(5, 9), sigma=(0.1, 5.))\n",
        "    img = blurrer(img)\n",
        "  return img, angle"
      ],
      "metadata": {
        "id": "0Xo1s53gPX40"
      },
      "execution_count": 13,
      "outputs": []
    },
    {
      "cell_type": "markdown",
      "source": [
        "# Dataset Reading, Loading and Batching"
      ],
      "metadata": {
        "id": "Ov3TX0J-mvVa"
      }
    },
    {
      "metadata": {
        "id": "kssJYBj_RrOR"
      },
      "cell_type": "code",
      "source": [
        "import torch\n",
        "from torch.utils.data import Dataset, DataLoader\n",
        "\n",
        "class CarImageDataset(Dataset):\n",
        "    def __init__(self, samples, transform = None, crop = None, augment=None):\n",
        "      self.samples = samples\n",
        "      self.transform = transform # function default to = None, not = False\n",
        "      self.augment = augment\n",
        "      self.crop = crop\n",
        "\n",
        "    def __getitem__(self, index):\n",
        "      # get a batch\n",
        "      batch_samples = self.samples[index]\n",
        "      # read-in Y\n",
        "      steering_angle = float(batch_samples[3])\n",
        "      # read-in X\n",
        "      center_img, left_img, right_img = batch_samples[:3]\n",
        "      # img_path to img\n",
        "      center_img, left_img, right_img = path_to_img(center_img), path_to_img(left_img),path_to_img(right_img)\n",
        "      # randomly augment X\n",
        "      if self.augment:\n",
        "          center_img,angle_center = self.augment(center_img, steering_angle)\n",
        "          left_img,angle_left = self.augment(left_img, steering_angle + 0.4)\n",
        "          right_img,angle_right = self.augment(right_img, steering_angle - 0.4 )\n",
        "      else:\n",
        "        angle_center = steering_angle\n",
        "        angle_left = steering_angle + 0.4\n",
        "        angle_right = steering_angle - 0.4\n",
        "      # crop here: raise Runtime Error...\n",
        "      # cropping\n",
        "      if self.crop:\n",
        "        center_img, left_img, right_img = self.crop(center_img), self.crop(left_img), self.crop(right_img)\n",
        "      # transform\n",
        "      center_img, left_img, right_img = self.transform(center_img), self.transform(left_img), self.transform(right_img)\n",
        "\n",
        "      return (center_img, angle_center), (left_img, angle_left), (right_img, angle_right)\n",
        "\n",
        "    def __len__(self):\n",
        "      return len(self.samples)\n"
      ],
      "execution_count": 14,
      "outputs": []
    },
    {
      "metadata": {
        "id": "Fr1YzfF3YQtj",
        "outputId": "9a9519d9-25b3-4e27-baef-32ae1d79ce01",
        "colab": {
          "base_uri": "https://localhost:8080/"
        }
      },
      "cell_type": "code",
      "source": [
        "dset_train = CarImageDataset(train_samples, transform = transformations)\n",
        "loader_train = DataLoader(dset_train, batch_size=64, shuffle=True, num_workers=6)\n",
        "# params = {'batch_size': 32, 'shuffle': True, 'num_workers': 4}\n",
        "# loader_train = data.DataLoader(dset_train, **params)\n",
        "\n",
        "dset_valid = CarImageDataset(validation_samples, transform = transformations)\n",
        "loader_valid = DataLoader(dset_valid, batch_size=64, shuffle=False, num_workers=6)\n",
        "\n",
        "# , crop = cropping, augment = random_augment"
      ],
      "execution_count": 15,
      "outputs": [
        {
          "output_type": "stream",
          "name": "stderr",
          "text": [
            "/usr/local/lib/python3.10/dist-packages/torch/utils/data/dataloader.py:557: UserWarning: This DataLoader will create 6 worker processes in total. Our suggested max number of worker in current system is 2, which is smaller than what this DataLoader is going to create. Please be aware that excessive worker creation might get DataLoader running slow or even freeze, lower the worker number to avoid potential slowness/freeze if necessary.\n",
            "  warnings.warn(_create_warning_msg(\n"
          ]
        }
      ]
    },
    {
      "cell_type": "markdown",
      "source": [
        "# get a batch for testing and plotting"
      ],
      "metadata": {
        "id": "UBySz0iGHTtZ"
      }
    },
    {
      "cell_type": "code",
      "source": [
        "# get a batch for plotting\n",
        "(center_img, steering_angle_center), (left_img, steering_angle_left), (right_img, steering_angle_right) = next(iter(loader_train))"
      ],
      "metadata": {
        "id": "LrpQHWQ5XVJR",
        "outputId": "53d5b78e-5035-420a-e0ce-5a2283fe2967",
        "colab": {
          "base_uri": "https://localhost:8080/",
          "height": 688
        }
      },
      "execution_count": 16,
      "outputs": [
        {
          "output_type": "error",
          "ename": "RuntimeError",
          "evalue": "ignored",
          "traceback": [
            "\u001b[0;31m---------------------------------------------------------------------------\u001b[0m",
            "\u001b[0;31mRuntimeError\u001b[0m                              Traceback (most recent call last)",
            "\u001b[0;32m<ipython-input-16-a7988ac7f94b>\u001b[0m in \u001b[0;36m<cell line: 2>\u001b[0;34m()\u001b[0m\n\u001b[1;32m      1\u001b[0m \u001b[0;31m# get a batch for plotting\u001b[0m\u001b[0;34m\u001b[0m\u001b[0;34m\u001b[0m\u001b[0m\n\u001b[0;32m----> 2\u001b[0;31m \u001b[0;34m(\u001b[0m\u001b[0mcenter_img\u001b[0m\u001b[0;34m,\u001b[0m \u001b[0msteering_angle_center\u001b[0m\u001b[0;34m)\u001b[0m\u001b[0;34m,\u001b[0m \u001b[0;34m(\u001b[0m\u001b[0mleft_img\u001b[0m\u001b[0;34m,\u001b[0m \u001b[0msteering_angle_left\u001b[0m\u001b[0;34m)\u001b[0m\u001b[0;34m,\u001b[0m \u001b[0;34m(\u001b[0m\u001b[0mright_img\u001b[0m\u001b[0;34m,\u001b[0m \u001b[0msteering_angle_right\u001b[0m\u001b[0;34m)\u001b[0m \u001b[0;34m=\u001b[0m \u001b[0mnext\u001b[0m\u001b[0;34m(\u001b[0m\u001b[0miter\u001b[0m\u001b[0;34m(\u001b[0m\u001b[0mloader_train\u001b[0m\u001b[0;34m)\u001b[0m\u001b[0;34m)\u001b[0m\u001b[0;34m\u001b[0m\u001b[0;34m\u001b[0m\u001b[0m\n\u001b[0m",
            "\u001b[0;32m/usr/local/lib/python3.10/dist-packages/torch/utils/data/dataloader.py\u001b[0m in \u001b[0;36m__next__\u001b[0;34m(self)\u001b[0m\n\u001b[1;32m    628\u001b[0m                 \u001b[0;31m# TODO(https://github.com/pytorch/pytorch/issues/76750)\u001b[0m\u001b[0;34m\u001b[0m\u001b[0;34m\u001b[0m\u001b[0m\n\u001b[1;32m    629\u001b[0m                 \u001b[0mself\u001b[0m\u001b[0;34m.\u001b[0m\u001b[0m_reset\u001b[0m\u001b[0;34m(\u001b[0m\u001b[0;34m)\u001b[0m  \u001b[0;31m# type: ignore[call-arg]\u001b[0m\u001b[0;34m\u001b[0m\u001b[0;34m\u001b[0m\u001b[0m\n\u001b[0;32m--> 630\u001b[0;31m             \u001b[0mdata\u001b[0m \u001b[0;34m=\u001b[0m \u001b[0mself\u001b[0m\u001b[0;34m.\u001b[0m\u001b[0m_next_data\u001b[0m\u001b[0;34m(\u001b[0m\u001b[0;34m)\u001b[0m\u001b[0;34m\u001b[0m\u001b[0;34m\u001b[0m\u001b[0m\n\u001b[0m\u001b[1;32m    631\u001b[0m             \u001b[0mself\u001b[0m\u001b[0;34m.\u001b[0m\u001b[0m_num_yielded\u001b[0m \u001b[0;34m+=\u001b[0m \u001b[0;36m1\u001b[0m\u001b[0;34m\u001b[0m\u001b[0;34m\u001b[0m\u001b[0m\n\u001b[1;32m    632\u001b[0m             \u001b[0;32mif\u001b[0m \u001b[0mself\u001b[0m\u001b[0;34m.\u001b[0m\u001b[0m_dataset_kind\u001b[0m \u001b[0;34m==\u001b[0m \u001b[0m_DatasetKind\u001b[0m\u001b[0;34m.\u001b[0m\u001b[0mIterable\u001b[0m \u001b[0;32mand\u001b[0m\u001b[0;31m \u001b[0m\u001b[0;31m\\\u001b[0m\u001b[0;34m\u001b[0m\u001b[0;34m\u001b[0m\u001b[0m\n",
            "\u001b[0;32m/usr/local/lib/python3.10/dist-packages/torch/utils/data/dataloader.py\u001b[0m in \u001b[0;36m_next_data\u001b[0;34m(self)\u001b[0m\n\u001b[1;32m   1343\u001b[0m             \u001b[0;32melse\u001b[0m\u001b[0;34m:\u001b[0m\u001b[0;34m\u001b[0m\u001b[0;34m\u001b[0m\u001b[0m\n\u001b[1;32m   1344\u001b[0m                 \u001b[0;32mdel\u001b[0m \u001b[0mself\u001b[0m\u001b[0;34m.\u001b[0m\u001b[0m_task_info\u001b[0m\u001b[0;34m[\u001b[0m\u001b[0midx\u001b[0m\u001b[0;34m]\u001b[0m\u001b[0;34m\u001b[0m\u001b[0;34m\u001b[0m\u001b[0m\n\u001b[0;32m-> 1345\u001b[0;31m                 \u001b[0;32mreturn\u001b[0m \u001b[0mself\u001b[0m\u001b[0;34m.\u001b[0m\u001b[0m_process_data\u001b[0m\u001b[0;34m(\u001b[0m\u001b[0mdata\u001b[0m\u001b[0;34m)\u001b[0m\u001b[0;34m\u001b[0m\u001b[0;34m\u001b[0m\u001b[0m\n\u001b[0m\u001b[1;32m   1346\u001b[0m \u001b[0;34m\u001b[0m\u001b[0m\n\u001b[1;32m   1347\u001b[0m     \u001b[0;32mdef\u001b[0m \u001b[0m_try_put_index\u001b[0m\u001b[0;34m(\u001b[0m\u001b[0mself\u001b[0m\u001b[0;34m)\u001b[0m\u001b[0;34m:\u001b[0m\u001b[0;34m\u001b[0m\u001b[0;34m\u001b[0m\u001b[0m\n",
            "\u001b[0;32m/usr/local/lib/python3.10/dist-packages/torch/utils/data/dataloader.py\u001b[0m in \u001b[0;36m_process_data\u001b[0;34m(self, data)\u001b[0m\n\u001b[1;32m   1369\u001b[0m         \u001b[0mself\u001b[0m\u001b[0;34m.\u001b[0m\u001b[0m_try_put_index\u001b[0m\u001b[0;34m(\u001b[0m\u001b[0;34m)\u001b[0m\u001b[0;34m\u001b[0m\u001b[0;34m\u001b[0m\u001b[0m\n\u001b[1;32m   1370\u001b[0m         \u001b[0;32mif\u001b[0m \u001b[0misinstance\u001b[0m\u001b[0;34m(\u001b[0m\u001b[0mdata\u001b[0m\u001b[0;34m,\u001b[0m \u001b[0mExceptionWrapper\u001b[0m\u001b[0;34m)\u001b[0m\u001b[0;34m:\u001b[0m\u001b[0;34m\u001b[0m\u001b[0;34m\u001b[0m\u001b[0m\n\u001b[0;32m-> 1371\u001b[0;31m             \u001b[0mdata\u001b[0m\u001b[0;34m.\u001b[0m\u001b[0mreraise\u001b[0m\u001b[0;34m(\u001b[0m\u001b[0;34m)\u001b[0m\u001b[0;34m\u001b[0m\u001b[0;34m\u001b[0m\u001b[0m\n\u001b[0m\u001b[1;32m   1372\u001b[0m         \u001b[0;32mreturn\u001b[0m \u001b[0mdata\u001b[0m\u001b[0;34m\u001b[0m\u001b[0;34m\u001b[0m\u001b[0m\n\u001b[1;32m   1373\u001b[0m \u001b[0;34m\u001b[0m\u001b[0m\n",
            "\u001b[0;32m/usr/local/lib/python3.10/dist-packages/torch/_utils.py\u001b[0m in \u001b[0;36mreraise\u001b[0;34m(self)\u001b[0m\n\u001b[1;32m    692\u001b[0m             \u001b[0;31m# instantiate since we don't know how to\u001b[0m\u001b[0;34m\u001b[0m\u001b[0;34m\u001b[0m\u001b[0m\n\u001b[1;32m    693\u001b[0m             \u001b[0;32mraise\u001b[0m \u001b[0mRuntimeError\u001b[0m\u001b[0;34m(\u001b[0m\u001b[0mmsg\u001b[0m\u001b[0;34m)\u001b[0m \u001b[0;32mfrom\u001b[0m \u001b[0;32mNone\u001b[0m\u001b[0;34m\u001b[0m\u001b[0;34m\u001b[0m\u001b[0m\n\u001b[0;32m--> 694\u001b[0;31m         \u001b[0;32mraise\u001b[0m \u001b[0mexception\u001b[0m\u001b[0;34m\u001b[0m\u001b[0;34m\u001b[0m\u001b[0m\n\u001b[0m\u001b[1;32m    695\u001b[0m \u001b[0;34m\u001b[0m\u001b[0m\n\u001b[1;32m    696\u001b[0m \u001b[0;34m\u001b[0m\u001b[0m\n",
            "\u001b[0;31mRuntimeError\u001b[0m: Caught RuntimeError in DataLoader worker process 0.\nOriginal Traceback (most recent call last):\n  File \"/usr/local/lib/python3.10/dist-packages/torch/utils/data/_utils/worker.py\", line 308, in _worker_loop\n    data = fetcher.fetch(index)\n  File \"/usr/local/lib/python3.10/dist-packages/torch/utils/data/_utils/fetch.py\", line 51, in fetch\n    data = [self.dataset[idx] for idx in possibly_batched_index]\n  File \"/usr/local/lib/python3.10/dist-packages/torch/utils/data/_utils/fetch.py\", line 51, in <listcomp>\n    data = [self.dataset[idx] for idx in possibly_batched_index]\n  File \"<ipython-input-14-cd9e2f9002cc>\", line 19, in __getitem__\n    center_img, left_img, right_img = path_to_img(center_img), path_to_img(left_img),path_to_img(right_img)\n  File \"<ipython-input-10-e49dd2140f19>\", line 5, in path_to_img\n    img = read_image(f'data/IMG/{img_path.split(\"/\")[-1]}')\n  File \"/usr/local/lib/python3.10/dist-packages/torchvision/io/image.py\", line 258, in read_image\n    data = read_file(path)\n  File \"/usr/local/lib/python3.10/dist-packages/torchvision/io/image.py\", line 52, in read_file\n    data = torch.ops.image.read_file(path)\n  File \"/usr/local/lib/python3.10/dist-packages/torch/_ops.py\", line 692, in __call__\n    return self._op(*args, **kwargs or {})\nRuntimeError: [Errno 5] Input/output error: 'data/IMG/center_2016_12_01_13_43_06_919.jpg'\n"
          ]
        }
      ]
    },
    {
      "cell_type": "code",
      "source": [
        "imshow(center_img[0])"
      ],
      "metadata": {
        "id": "huK-vDDYY_fo"
      },
      "execution_count": null,
      "outputs": []
    },
    {
      "cell_type": "code",
      "source": [
        "center_img.shape, center_img[0].shape\n",
        "# [batch_size, RGB, H, W]\n",
        "# (3 x H x W)"
      ],
      "metadata": {
        "id": "-foF3ZgkGfzr"
      },
      "execution_count": null,
      "outputs": []
    },
    {
      "cell_type": "code",
      "source": [
        "# Visualize the batch of images\n",
        "for i in range(10): # len(center_img)\n",
        "    # Display Center Image\n",
        "    plt.subplot(1, 3, 1)\n",
        "    imshow(center_img[i], title=\"Center Image\")\n",
        "\n",
        "    # Display Left Image\n",
        "    plt.subplot(1, 3, 2)\n",
        "    imshow(left_img[i], title=\"Left Image\")\n",
        "\n",
        "    # Display Right Image\n",
        "    plt.subplot(1, 3, 3)\n",
        "    imshow(right_img[i], title=\"Right Image\")\n",
        "\n",
        "    plt.show()"
      ],
      "metadata": {
        "id": "oT8sGQ2FGdM2"
      },
      "execution_count": null,
      "outputs": []
    },
    {
      "cell_type": "markdown",
      "source": [
        "# Model Architecture\n",
        "- Adapted NVIDIA Model\n",
        "    \n",
        "- Light Model\n"
      ],
      "metadata": {
        "id": "UD9npqmLm3Fw"
      }
    },
    {
      "cell_type": "markdown",
      "source": [
        "## Adapted Nvidia Model\n",
        "    - the convolution layers are meant to handle feature engineering\n",
        "    - the fully connected layer for predicting the steering angle.\n",
        "    - dropout avoids overfitting\n",
        "    - ELU(Exponential linear unit) function takes care of the Vanishing gradient problem.\n",
        "\n",
        "![title](https://www.researchgate.net/profile/Mathew-Monfort/publication/301648615/figure/fig4/AS:357938163142666@1462350516717/CNN-architecture-The-network-has-about-27-million-connections-and-250-thousand.png)"
      ],
      "metadata": {
        "id": "y5B7be253NdL"
      }
    },
    {
      "cell_type": "code",
      "source": [
        "import torch\n",
        "import torch.nn as nn\n",
        "import torch.nn.init as init\n",
        "import torch.optim as optim\n",
        "import torch.nn.functional as F\n",
        "\n",
        "class NvidiaModel(nn.Module):\n",
        "    def __init__(self):\n",
        "        super(NvidiaModel, self).__init__()\n",
        "        # Imput images: 3@66*200\n",
        "        # Conv Layers (W1, W2, F, S = 1, P = 0)\n",
        "        # output_size = (W - F + 2P)/S + 1\n",
        "        self.conv1 = nn.Conv2d(3, 24, 5, 2) # 24@31*98\n",
        "        self.conv2 = nn.Conv2d(24, 36, 5, 2) # 36@14*47\n",
        "        self.conv3 = nn.Conv2d(36, 48, 5, 2) # 48@5*22\n",
        "        self.conv4 = nn.Conv2d(48, 64, 3) #64@2*20\n",
        "        self.conv5 = nn.Conv2d(64, 64, 3) #64@1*18\n",
        "        self.dropout1 = nn.Dropout(0.5)\n",
        "        self.flatten = nn.Flatten()\n",
        "        self.fc1 = nn.Linear(64*1*18, 100)\n",
        "        self.dropout2 = nn.Dropout(0.5)\n",
        "        self.fc2 = nn.Linear(100, 50)\n",
        "        self.dropout3 = nn.Dropout(0.5)\n",
        "        self.fc3 = nn.Linear(50, 10)\n",
        "        self.dropout4 = nn.Dropout(0.5)\n",
        "        self.fc4 = nn.Linear(10, 1)\n",
        "\n",
        "    def forward(self, x):\n",
        "        x = F.elu(self.conv1(x))\n",
        "        x = F.elu(self.conv2(x))\n",
        "        x = F.elu(self.conv3(x))\n",
        "        x = F.elu(self.conv4(x))\n",
        "        x = F.elu(self.conv5(x))\n",
        "        x = self.dropout1(x)\n",
        "        x = self.flatten(x)\n",
        "        x = F.elu(self.fc1(x))\n",
        "        x = self.dropout2(x)\n",
        "        x = F.elu(self.fc2(x))\n",
        "        x = self.dropout3(x)\n",
        "        x = F.elu(self.fc3(x))\n",
        "        x = self.dropout4(x)\n",
        "        x = self.fc4(x)\n",
        "        return x"
      ],
      "metadata": {
        "id": "htSqgyaV4Ef8"
      },
      "execution_count": null,
      "outputs": []
    },
    {
      "metadata": {
        "id": "EJDC80BOa-uQ"
      },
      "cell_type": "code",
      "source": [
        "model = NvidiaModel()\n",
        "optimizer = optim.Adam(model.parameters(), lr=0.001)\n",
        "criterion = nn.MSELoss()"
      ],
      "execution_count": null,
      "outputs": []
    },
    {
      "cell_type": "markdown",
      "source": [
        "## Light Net 1 DL\n",
        "\n",
        "proposed by"
      ],
      "metadata": {
        "id": "BnPv4vLf3xNa"
      }
    },
    {
      "cell_type": "code",
      "source": [
        "def cal_CNN_output_size(input_height, input_width, K, S = 1, P = 0):\n",
        "    \"\"\"\n",
        "    Calculate the output size of a convolutional layer.\n",
        "    Returns:\n",
        "    - tuple: Tuple representing the output size (height, width).\n",
        "    \"\"\"\n",
        "\n",
        "    output_height = ((input_height - K + 2 * P) / S) + 1\n",
        "    output_width = ((input_width - K + 2 * P) / S) + 1\n",
        "\n",
        "    return int(output_height), int(output_width)"
      ],
      "metadata": {
        "id": "5ltkf-W0rHf2"
      },
      "execution_count": null,
      "outputs": []
    },
    {
      "cell_type": "code",
      "source": [
        "def cal_MP_output_size()"
      ],
      "metadata": {
        "id": "1cbrz1yKsu6b"
      },
      "execution_count": null,
      "outputs": []
    },
    {
      "cell_type": "code",
      "source": [
        "cal_CNN_output_size(66, 200, 3,2)\n",
        "cal_CNN_output_size(32, 99, 3,2)"
      ],
      "metadata": {
        "id": "8oTSEg83sMlU"
      },
      "execution_count": null,
      "outputs": []
    },
    {
      "cell_type": "code",
      "source": [
        "import torch.nn as nn\n",
        "import torch.nn.functional as F\n",
        "\n",
        "class NetworkLight(nn.Module):\n",
        "    def __init__(self):\n",
        "        super(NetworkLight, self).__init__()\n",
        "        # Imput images: 3@66*200\n",
        "        # Conv Layers (W1, W2, F, S = 1, P = 0)\n",
        "        # output_size = (W - F + 2P)/S + 1\n",
        "\n",
        "        # Convolutional layers\n",
        "        self.conv1 = nn.Conv2d(3, 24, kernel_size=3, stride=2) # 24@32*99\n",
        "        self.conv2 = nn.Conv2d(24, 48, kernel_size=3, stride=2) # 48@15*49\n",
        "        self.pool = nn.MaxPool2d(kernel_size=4, stride=4) #\n",
        "        self.dropout = nn.Dropout(p=0.25)\n",
        "        # Fully connected layers\n",
        "        self.fc1 = nn.Linear(in_features=48*3*12, out_features=50)\n",
        "        self.fc2 = nn.Linear(in_features=50, out_features=10)\n",
        "        self.fc3 = nn.Linear(in_features=10, out_features=1)\n",
        "\n",
        "    def forward(self, input):\n",
        "        input = input.view(input.size(0), 3, 66, 200)\n",
        "        output = F.elu(self.conv1(input))\n",
        "        output = F.elu(self.conv2(output))\n",
        "        output = self.pool(output)\n",
        "        output = self.dropout(output)\n",
        "\n",
        "        output = output.view(output.size(0), -1)\n",
        "        output = F.elu(self.fc1(output))\n",
        "        output = F.elu(self.fc2(output))\n",
        "        output = self.fc3(output)\n",
        "        return output"
      ],
      "metadata": {
        "id": "O51D18Db3ta3"
      },
      "execution_count": null,
      "outputs": []
    },
    {
      "cell_type": "markdown",
      "source": [
        "## Light Net 2 Paper\n"
      ],
      "metadata": {
        "id": "eVtFrdUWo7y0"
      }
    },
    {
      "cell_type": "code",
      "source": [
        "import torch\n",
        "import torch.nn as nn\n",
        "import torch.nn.init as init\n",
        "import torch.optim as optim\n",
        "import torch.nn.functional as F\n",
        "\n",
        "class NvidiaModel(nn.Module):\n",
        "    def __init__(self):\n",
        "        super(NvidiaModel, self).__init__()\n",
        "        # Imput images: 3@66*200\n",
        "        # Conv Layers (W1, W2, F, S = 1, P = 0)\n",
        "        # output_size = (W - F + 2P)/S + 1\n",
        "        self.conv1 = nn.Conv2d(3, 24, 5, 2) # 24@31*98\n",
        "        self.conv2 = nn.Conv2d(24, 36, 5, 2) # 36@14*47\n",
        "        self.conv3 = nn.Conv2d(36, 48, 5, 2) # 48@5*22\n",
        "        self.conv4 = nn.Conv2d(48, 64, 3) #64@2*20\n",
        "        self.conv5 = nn.Conv2d(64, 64, 3) #64@1*18\n",
        "        self.dropout1 = nn.Dropout(0.5)\n",
        "        self.flatten = nn.Flatten()\n",
        "        self.fc1 = nn.Linear(64*1*18, 100)\n",
        "        self.dropout2 = nn.Dropout(0.5)\n",
        "        self.fc2 = nn.Linear(100, 50)\n",
        "        self.dropout3 = nn.Dropout(0.5)\n",
        "        self.fc3 = nn.Linear(50, 10)\n",
        "        self.dropout4 = nn.Dropout(0.5)\n",
        "        self.fc4 = nn.Linear(10, 1)\n",
        "\n",
        "    def forward(self, x):\n",
        "        x = F.elu(self.conv1(x))\n",
        "        x = F.elu(self.conv2(x))\n",
        "        x = F.elu(self.conv3(x))\n",
        "        x = F.elu(self.conv4(x))\n",
        "        x = F.elu(self.conv5(x))\n",
        "        x = self.dropout1(x)\n",
        "        x = self.flatten(x)\n",
        "        x = F.elu(self.fc1(x))\n",
        "        x = self.dropout2(x)\n",
        "        x = F.elu(self.fc2(x))\n",
        "        x = self.dropout3(x)\n",
        "        x = F.elu(self.fc3(x))\n",
        "        x = self.dropout4(x)\n",
        "        x = self.fc4(x)\n",
        "        return x"
      ],
      "metadata": {
        "id": "Y29R52XZoENn"
      },
      "execution_count": null,
      "outputs": []
    },
    {
      "cell_type": "markdown",
      "source": [
        "# Training and Validation Loop"
      ],
      "metadata": {
        "id": "01tHPY6wvBCc"
      }
    },
    {
      "metadata": {
        "id": "lKjZkt4lbJxB"
      },
      "cell_type": "code",
      "source": [
        "max_epochs = 200\n",
        "device = torch.device(\"cuda:0\" if torch.cuda.is_available() else \"cpu\")\n",
        "\n",
        "# Define lists to track train and valid loss\n",
        "train_losses = []\n",
        "valid_losses = []\n",
        "\n",
        "def to_device(datas, device):\n",
        "    imgs, angles = datas\n",
        "    return imgs.float().to(device), angles.float().to(device)\n",
        "\n",
        "for epoch in range(max_epochs):\n",
        "    model.to(device)\n",
        "\n",
        "    # Training\n",
        "    train_loss = 0\n",
        "    model.train()\n",
        "    for local_batch, (centers, lefts, rights) in enumerate(loader_train):\n",
        "        # Transfer to GPU\n",
        "        centers, lefts, rights = to_device(centers, device), to_device(lefts, device), to_device(rights, device)\n",
        "\n",
        "        # Model computations\n",
        "        optimizer.zero_grad()\n",
        "        for data in [centers, lefts, rights]:\n",
        "            imgs, angles = data\n",
        "            outputs = model(imgs)\n",
        "            loss = criterion(outputs, angles.unsqueeze(1))\n",
        "            loss.backward()\n",
        "            optimizer.step()\n",
        "            train_loss += loss.item()\n",
        "\n",
        "        if local_batch % 100 == 0:\n",
        "            print(f'Epoch [{epoch+1}/{max_epochs}], Batch [{local_batch+1}], Avg Train Loss: {train_loss/((local_batch+1)*3):.3f}')\n",
        "\n",
        "    # Track train loss for the epoch\n",
        "    avg_train_loss = train_loss / (local_batch + 1)\n",
        "    train_losses.append(avg_train_loss)\n",
        "\n",
        "    # Validation\n",
        "    model.eval()\n",
        "    valid_loss = 0\n",
        "    with torch.no_grad():\n",
        "        for local_batch, (centers, lefts, rights) in enumerate(loader_valid):\n",
        "            # Transfer to GPU\n",
        "            centers, lefts, rights = to_device(centers, device), to_device(lefts, device), to_device(rights, device)\n",
        "\n",
        "            # Model computations\n",
        "            optimizer.zero_grad()\n",
        "            for data in [centers, lefts, rights]:\n",
        "                imgs, angles = data\n",
        "                outputs = model(imgs)\n",
        "                loss = criterion(outputs, angles.unsqueeze(1))\n",
        "                valid_loss += loss.item()\n",
        "\n",
        "            avg_valid_loss = valid_loss / (local_batch + 1)\n",
        "            if local_batch % 100 == 0:\n",
        "                print(f'Epoch [{epoch+1}/{max_epochs}], Validation Batch [{local_batch+1}], Avg Valid Loss: {avg_valid_loss:.3f}')\n",
        "\n",
        "    # Track validation loss for the epoch\n",
        "    valid_losses.append(avg_valid_loss)\n",
        "\n",
        "# Print the final train and validation losses\n",
        "print(\"Final Train Loss:\", train_losses)\n",
        "print(\"Final Validation Loss:\", valid_losses)\n"
      ],
      "execution_count": null,
      "outputs": []
    },
    {
      "cell_type": "markdown",
      "source": [
        "# Performance Evaluation\n",
        "\n",
        "\n",
        "• Value loss or Accuracy (computed during training phase)\n",
        "• Generalization on Track 1 (drive performance)\n",
        "Value loss or Accuracy\n",
        "The first evaluation parameter considered here is “Loss” over each epoch of the training run.\n",
        "To calculate value loss over each epoch, Keras provides “val_loss”, which is the average loss\n",
        "after that epoch. The loss observed during the initial epochs at the beginning of training phase\n",
        "is high, but it falls gradually, and that is evident by the screenshots below which shows the\n",
        "run of Architecture in the training phase"
      ],
      "metadata": {
        "id": "SeHZCPr3vrNG"
      }
    },
    {
      "cell_type": "markdown",
      "source": [
        "## Hyperparameter Tunning"
      ],
      "metadata": {
        "id": "KRR2-9PqjX3Q"
      }
    },
    {
      "cell_type": "code",
      "source": [
        "def find_optimal_hyperparameters(model, criterion, train_loader, valid_loader, device, epochs_options, lr_options, weight_decay_options=[0]):\n",
        "    best_val_loss = float('inf')\n",
        "    best_hyperparameters = None\n",
        "    best_checkpoint = None\n",
        "\n",
        "    for weight in weight_decay_options:\n",
        "        for lr in lr_options:\n",
        "            for epochs in epochs_options:\n",
        "                print(f\"Training with weight_decay={weight}, lr={lr}, epochs={epochs}\")\n",
        "\n",
        "                trained_model, optimizer, scheduler, train_losses, valid_losses, early_stop = train_dynamic(\n",
        "                    model, epochs, lr, criterion, train_loader, valid_loader, patience=150, weight=weight\n",
        "                )\n",
        "\n",
        "                final_val_loss = valid_losses[-1]\n",
        "                if final_val_loss < best_val_loss:\n",
        "                    best_val_loss = final_val_loss\n",
        "                    best_hyperparameters = {\n",
        "                        'epoch_size': epochs,\n",
        "                        'learning_rate': lr,\n",
        "                        'weight_decay': weight,\n",
        "                        'early_stop_epoch': len(valid_losses) if early_stop else epochs\n",
        "                    }\n",
        "                    # Save the checkpoint\n",
        "                    best_checkpoint = {\n",
        "                        'model_state_dict': model.state_dict(),\n",
        "                        'optimizer_state_dict': optimizer.state_dict(),\n",
        "                        'scheduler_state_dict': scheduler.state_dict() if scheduler else None,\n",
        "                        'hyperparameters': best_hyperparameters,\n",
        "                        'best_val_loss': best_val_loss\n",
        "                    }\n",
        "                    torch.save(best_checkpoint, 'checkpoint.pth')\n",
        "\n",
        "                # Reset the model weights\n",
        "                model.apply(weight_reset)\n",
        "\n",
        "    return best_checkpoint\n",
        "\n",
        "def weight_reset(m):\n",
        "    if hasattr(m, 'reset_parameters'):\n",
        "        m.reset_parameters()\n",
        "\n",
        "### Modify the below variables as an option\n",
        "epochs_options = [1000] # -> 1000\n",
        "lr_options = [0.00011] # -> You can add more options. But it will take expontial time to perform it\n",
        "weight_decay_options = [1e-6] # -> same\n",
        "criterion = criterion_MER\n",
        "\n",
        "\n",
        "# Find the optimal set of hyperparameters\n",
        "best_checkpoint = find_optimal_hyperparameters(\n",
        "    mlp_model, criterion, train_loader, valid_loader, device,\n",
        "    epochs_options, lr_options, weight_decay_options\n",
        ")\n",
        "\n",
        "print(f\"Best hyperparameters:\")\n",
        "for key, value in best_checkpoint['hyperparameters'].items():\n",
        "    print(f\"{key}: {value}\")\n",
        "print(f\"Lowest validation loss: {best_checkpoint['best_val_loss']}\")\n"
      ],
      "metadata": {
        "id": "s_Ar5SVsjWWh"
      },
      "execution_count": null,
      "outputs": []
    },
    {
      "cell_type": "markdown",
      "source": [
        "## MSE plot"
      ],
      "metadata": {
        "id": "nre4id-Tjdu_"
      }
    },
    {
      "cell_type": "code",
      "source": [
        "import matplotlib.pyplot as plt\n",
        "\n",
        "\n",
        "epochs = range(1, max_epochs + 1)\n",
        "\n",
        "\n",
        "plt.plot(epochs, train_losses, label='Train Loss')\n",
        "plt.plot(epochs, valid_losses, label='Validation Loss')\n",
        "plt.title('Training and Validation Losses')\n",
        "plt.xlabel('Epoch')\n",
        "plt.ylabel('Loss')\n",
        "plt.legend()\n",
        "plt.show()"
      ],
      "metadata": {
        "id": "Ok4ZY4o-vuNH"
      },
      "execution_count": null,
      "outputs": []
    },
    {
      "cell_type": "markdown",
      "source": [
        "# Save Model to disk"
      ],
      "metadata": {
        "id": "pCq6FEtTvnvr"
      }
    },
    {
      "metadata": {
        "id": "8jH0DLUi8fC_"
      },
      "cell_type": "code",
      "source": [
        "state = {\n",
        "        'model': model.module if device == 'cuda' else model,\n",
        "        }\n",
        "\n",
        "torch.save(state, 'model.h5')"
      ],
      "execution_count": null,
      "outputs": []
    }
  ]
}