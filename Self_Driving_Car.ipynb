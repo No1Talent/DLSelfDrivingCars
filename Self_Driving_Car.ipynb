{
  "nbformat": 4,
  "nbformat_minor": 0,
  "metadata": {
    "colab": {
      "provenance": [],
      "toc_visible": true,
      "include_colab_link": true
    },
    "kernelspec": {
      "name": "python3",
      "display_name": "Python 3"
    },
    "accelerator": "GPU"
  },
  "cells": [
    {
      "cell_type": "markdown",
      "metadata": {
        "id": "view-in-github",
        "colab_type": "text"
      },
      "source": [
        "<a href=\"https://colab.research.google.com/github/No1Talent/DLSelfDrivingCars/blob/master/Self_Driving_Car.ipynb\" target=\"_parent\"><img src=\"https://colab.research.google.com/assets/colab-badge.svg\" alt=\"Open In Colab\"/></a>"
      ]
    },
    {
      "cell_type": "markdown",
      "source": [
        "# Import"
      ],
      "metadata": {
        "id": "vP8hiq1ObRoi"
      }
    },
    {
      "metadata": {
        "id": "2BHPjDjuRYQK",
        "outputId": "765452f2-f47e-4fa7-e439-fd612321e473",
        "colab": {
          "base_uri": "https://localhost:8080/"
        }
      },
      "cell_type": "code",
      "source": [
        "import numpy as np\n",
        "import matplotlib.pyplot as plt\n",
        "import os\n",
        "import torch\n",
        "import torch.nn as nn\n",
        "import torchvision\n",
        "from torchvision import models,transforms,datasets # handling deep learning models, image transformations, and datasets\n",
        "\n",
        "device = torch.device(\"cuda:0\" if torch.cuda.is_available() else \"cpu\")\n",
        "print('Using gpu: %s ' % torch.cuda.is_available())"
      ],
      "execution_count": null,
      "outputs": [
        {
          "output_type": "stream",
          "name": "stdout",
          "text": [
            "Using gpu: True \n"
          ]
        }
      ]
    },
    {
      "cell_type": "markdown",
      "source": [
        "# Data Prep"
      ],
      "metadata": {
        "id": "pyYtIU_3f5Tf"
      }
    },
    {
      "cell_type": "markdown",
      "source": [
        "Initial Import\n",
        "\n",
        "```\n",
        "# download and unzip\n",
        "!wget https://d17h27t6h515a5.cloudfront.net/topher/2016/December/584f6edd_data/data.zip\n",
        "!unzip data.zip\n",
        "%ls\n",
        "\n",
        "# remove unnecessary\n",
        "!rm data.zip\n",
        "!rm -r __MACOSX\n",
        "\n",
        "# save data to MyDrive\n",
        "from google.colab import drive\n",
        "drive.mount('/content/drive')\n",
        "!mv data \"/content/drive/MyDrive/\"\n",
        "```\n"
      ],
      "metadata": {
        "id": "nRWqFadFdxhk"
      }
    },
    {
      "cell_type": "code",
      "source": [
        "from google.colab import drive\n",
        "drive.mount('/content/gdrive')\n",
        "import os\n",
        "os.chdir('/content/gdrive/MyDrive/')\n",
        "\n",
        "%pwd"
      ],
      "metadata": {
        "colab": {
          "base_uri": "https://localhost:8080/",
          "height": 54
        },
        "id": "gkSL2AscdCao",
        "outputId": "a35d6e8b-a89d-4a70-b665-38f445b8ef2c"
      },
      "execution_count": 9,
      "outputs": [
        {
          "output_type": "stream",
          "name": "stdout",
          "text": [
            "Mounted at /content/gdrive\n"
          ]
        },
        {
          "output_type": "execute_result",
          "data": {
            "text/plain": [
              "'/content/gdrive/MyDrive'"
            ],
            "application/vnd.google.colaboratory.intrinsic+json": {
              "type": "string"
            }
          },
          "metadata": {},
          "execution_count": 9
        }
      ]
    },
    {
      "metadata": {
        "id": "LVVRptHQRlmz"
      },
      "cell_type": "code",
      "source": [
        "import csv\n",
        "from torch.utils.data import random_split\n",
        "\n",
        "# Read the CSV file and skip the header\n",
        "with open('data/driving_log.csv') as csvfile:\n",
        "    samples = list(csv.reader(csvfile))[1:]\n",
        "\n",
        "# Split the data into training and validation sets\n",
        "train_len = int(0.8 * len(samples))\n",
        "train_samples, validation_samples = random_split(samples, [train_len, len(samples) - train_len])"
      ],
      "execution_count": 14,
      "outputs": []
    },
    {
      "cell_type": "code",
      "source": [
        "samples[:3]"
      ],
      "metadata": {
        "colab": {
          "base_uri": "https://localhost:8080/"
        },
        "id": "6MeYgSBEfBtR",
        "outputId": "f652298f-c5da-473c-e274-ae70e101a4e7"
      },
      "execution_count": 17,
      "outputs": [
        {
          "output_type": "execute_result",
          "data": {
            "text/plain": [
              "[['IMG/center_2016_12_01_13_30_48_287.jpg',\n",
              "  ' IMG/left_2016_12_01_13_30_48_287.jpg',\n",
              "  ' IMG/right_2016_12_01_13_30_48_287.jpg',\n",
              "  ' 0',\n",
              "  ' 0',\n",
              "  ' 0',\n",
              "  ' 22.14829'],\n",
              " ['IMG/center_2016_12_01_13_30_48_404.jpg',\n",
              "  ' IMG/left_2016_12_01_13_30_48_404.jpg',\n",
              "  ' IMG/right_2016_12_01_13_30_48_404.jpg',\n",
              "  ' 0',\n",
              "  ' 0',\n",
              "  ' 0',\n",
              "  ' 21.87963'],\n",
              " ['IMG/center_2016_12_01_13_31_12_937.jpg',\n",
              "  ' IMG/left_2016_12_01_13_31_12_937.jpg',\n",
              "  ' IMG/right_2016_12_01_13_31_12_937.jpg',\n",
              "  ' 0',\n",
              "  ' 0',\n",
              "  ' 0',\n",
              "  ' 1.453011']]"
            ]
          },
          "metadata": {},
          "execution_count": 17
        }
      ]
    },
    {
      "cell_type": "markdown",
      "source": [
        "# Image Augmentation"
      ],
      "metadata": {
        "id": "s1L-V-fff_-c"
      }
    },
    {
      "metadata": {
        "id": "UsFgB26hSmWN"
      },
      "cell_type": "code",
      "source": [
        "import cv2\n",
        "import numpy as np\n",
        "\n",
        "# perform image augmentation by flipping images horizontally with a 50% probability.\n",
        "def augment(img_name, angle):\n",
        "    name = f'data/IMG/{img_name.split(\"/\")[-1]}'\n",
        "    current_image = cv2.imread(name)[65:-25, :, :]\n",
        "\n",
        "    if np.random.rand() < 0.5:\n",
        "        current_image = cv2.flip(current_image, 1)\n",
        "        angle = -angle\n",
        "\n",
        "    return current_image, angle"
      ],
      "execution_count": 19,
      "outputs": []
    },
    {
      "cell_type": "code",
      "source": [
        "# TRANSFORMING AND AUGMENTING IMAGES\n",
        "from torchvision import models,transforms,datasets\n",
        "from torchvision.transforms import v2\n",
        "\n",
        "transformations = v2.Compose([\n",
        "    v2.ToImage(),  # Convert to tensor, only needed if you had a PIL image\n",
        "    v2.ToDtype(torch.uint8, scale=True),  # optional, most input are already uint8 at this point\n",
        "    v2.Resize(size=(224, 224), antialias=True), # v2.RandomResizedCrop(size=(224, 224), antialias=True)\n",
        "    v2.RandomHorizontalFlip(p=0.5),\n",
        "    v2.ToDtype(torch.float32, scale=True),  # Normalize expects float input\n",
        "    v2.Normalize(mean=[0.485, 0.456, 0.406], std=[0.229, 0.224, 0.225]),\n",
        "])\n",
        "\n",
        "# antialias=True to smooth the edges of images or graphics to reduce aliasing artifacts, such as jagged edges or flickering\n",
        "\n",
        "'''\n",
        "from torch.utils.data import DataLoader\n",
        "import torchvision.transforms as transforms\n",
        "\n",
        "transformations = transforms.Compose([transforms.Lambda(lambda x: (x / 255.0) - 0.5)])\n",
        "'''"
      ],
      "metadata": {
        "colab": {
          "base_uri": "https://localhost:8080/",
          "height": 54
        },
        "id": "9xVkbc5ekuG6",
        "outputId": "d7666897-20af-4014-e328-e4dda8493261"
      },
      "execution_count": 28,
      "outputs": [
        {
          "output_type": "execute_result",
          "data": {
            "text/plain": [
              "'\\nfrom torch.utils.data import DataLoader\\nimport torchvision.transforms as transforms\\n\\ntransformations = transforms.Compose([transforms.Lambda(lambda x: (x / 255.0) - 0.5)])\\n'"
            ],
            "application/vnd.google.colaboratory.intrinsic+json": {
              "type": "string"
            }
          },
          "metadata": {},
          "execution_count": 28
        }
      ]
    },
    {
      "cell_type": "markdown",
      "source": [
        "# Data Loading\n",
        "created a custom dataset by subclassing data.Dataset??"
      ],
      "metadata": {
        "id": "Ov3TX0J-mvVa"
      }
    },
    {
      "metadata": {
        "id": "kssJYBj_RrOR"
      },
      "cell_type": "code",
      "source": [
        "class Dataset(data.Dataset):\n",
        "    def __init__(self, samples, transform=None):\n",
        "        self.samples = samples\n",
        "        self.transform = transform\n",
        "    # retrieves items based on the given index, applying augmentation as well\n",
        "    def __getitem__(self, index):\n",
        "        batch_samples = self.samples[index]\n",
        "        steering_angle = float(batch_samples[3])\n",
        "\n",
        "        center_img, angle_center = augment(batch_samples[0], steering_angle)\n",
        "        left_img, angle_left = augment(batch_samples[1], steering_angle + 0.4)\n",
        "        right_img, angle_right = augment(batch_samples[2], steering_angle - 0.4)\n",
        "\n",
        "        center_img = self.transform(center_img)\n",
        "        left_img = self.transform(left_img)\n",
        "        right_img = self.transform(right_img)\n",
        "\n",
        "        return (center_img, angle_center), (left_img, angle_left), (right_img, angle_right)\n",
        "\n",
        "    def __len__(self):\n",
        "        return len(self.samples)"
      ],
      "execution_count": 29,
      "outputs": []
    },
    {
      "metadata": {
        "id": "Fr1YzfF3YQtj",
        "outputId": "10fd5165-5b39-418c-88a8-1f228111566d",
        "colab": {
          "base_uri": "https://localhost:8080/"
        }
      },
      "cell_type": "code",
      "source": [
        "dset_train = Dataset(train_samples, transformations)\n",
        "loader_train = data.DataLoader(dset_train, batch_size=64, shuffle=True, num_workers=6)\n",
        "# params = {'batch_size': 32, 'shuffle': True, 'num_workers': 4}\n",
        "# loader_train = data.DataLoader(dset_train, **params)\n",
        "\n",
        "dset_valid = Dataset(validation_samples, transformations)\n",
        "loader_valid = data.DataLoader(dset_valid, batch_size=64, shuffle=False, num_workers=6)"
      ],
      "execution_count": 30,
      "outputs": [
        {
          "output_type": "stream",
          "name": "stderr",
          "text": [
            "/usr/local/lib/python3.10/dist-packages/torch/utils/data/dataloader.py:557: UserWarning: This DataLoader will create 6 worker processes in total. Our suggested max number of worker in current system is 2, which is smaller than what this DataLoader is going to create. Please be aware that excessive worker creation might get DataLoader running slow or even freeze, lower the worker number to avoid potential slowness/freeze if necessary.\n",
            "  warnings.warn(_create_warning_msg(\n"
          ]
        }
      ]
    },
    {
      "cell_type": "markdown",
      "source": [
        "# Model Architecture"
      ],
      "metadata": {
        "id": "UD9npqmLm3Fw"
      }
    },
    {
      "metadata": {
        "id": "wIH_nTixZzK8"
      },
      "cell_type": "code",
      "source": [
        "import torch.nn as nn\n",
        "import torch.nn.init as init\n",
        "import torch.optim as optim\n",
        "import torch.nn.functional as F\n",
        "\n",
        "class NetworkDense(nn.Module):\n",
        "\n",
        "    def __init__(self):\n",
        "        super(NetworkDense, self).__init__()\n",
        "        self.conv_layers = nn.Sequential(\n",
        "            nn.Conv2d(3, 24, 5, stride=2),\n",
        "            nn.ELU(),\n",
        "            nn.Conv2d(24, 36, 5, stride=2),\n",
        "            nn.ELU(),\n",
        "            nn.Conv2d(36, 48, 5, stride=2),\n",
        "            nn.ELU(),\n",
        "            nn.Conv2d(48, 64, 3),\n",
        "            nn.ELU(),\n",
        "            nn.Conv2d(64, 64, 3),\n",
        "            nn.Dropout(0.25)\n",
        "        )\n",
        "        self.linear_layers = nn.Sequential(\n",
        "            nn.Linear(in_features=64 * 2 * 33, out_features=100),\n",
        "            nn.ELU(),\n",
        "            nn.Linear(in_features=100, out_features=50),\n",
        "            nn.ELU(),\n",
        "            nn.Linear(in_features=50, out_features=10),\n",
        "            nn.Linear(in_features=10, out_features=1)\n",
        "        )\n",
        "\n",
        "    def forward(self, input):\n",
        "        input = input.view(input.size(0), 3, 70, 320)\n",
        "        output = self.conv_layers(input)\n",
        "        print(output.shape)\n",
        "        output = output.view(output.size(0), -1)\n",
        "        output = self.linear_layers(output)\n",
        "        return output\n",
        "\n",
        "\n",
        "class NetworkLight(nn.Module):\n",
        "\n",
        "    def __init__(self):\n",
        "        super(NetworkLight, self).__init__()\n",
        "        self.conv_layers = nn.Sequential(\n",
        "            nn.Conv2d(3, 24, 3, stride=2),\n",
        "            nn.ELU(),\n",
        "            nn.Conv2d(24, 48, 3, stride=2),\n",
        "            nn.MaxPool2d(4, stride=4),\n",
        "            nn.Dropout(p=0.25)\n",
        "        )\n",
        "        self.linear_layers = nn.Sequential(\n",
        "            nn.Linear(in_features=48*4*19, out_features=50),\n",
        "            nn.ELU(),\n",
        "            nn.Linear(in_features=50, out_features=10),\n",
        "            nn.Linear(in_features=10, out_features=1)\n",
        "        )\n",
        "\n",
        "\n",
        "    def forward(self, input):\n",
        "        input = input.view(input.size(0), 3, 70, 320)\n",
        "        output = self.conv_layers(input)\n",
        "        print(output.shape)\n",
        "        output = output.view(output.size(0), -1)\n",
        "        output = self.linear_layers(output)\n",
        "        return output"
      ],
      "execution_count": 31,
      "outputs": []
    },
    {
      "metadata": {
        "id": "EJDC80BOa-uQ"
      },
      "cell_type": "code",
      "source": [
        "model = NetworkLight()\n",
        "optimizer = optim.Adam(model.parameters(), lr=0.0001)\n",
        "\n",
        "criterion = nn.MSELoss()"
      ],
      "execution_count": 32,
      "outputs": []
    },
    {
      "cell_type": "markdown",
      "source": [
        "# Training and Validation Loop"
      ],
      "metadata": {
        "id": "01tHPY6wvBCc"
      }
    },
    {
      "metadata": {
        "id": "lKjZkt4lbJxB",
        "outputId": "ad5ff605-1062-4aed-8cda-ee13842b3a84",
        "colab": {
          "base_uri": "https://localhost:8080/",
          "height": 1000
        }
      },
      "cell_type": "code",
      "source": [
        "max_epochs = 1\n",
        "device = torch.device(\"cuda:0\" if torch.cuda.is_available() else \"cpu\")\n",
        "\n",
        "def to_device(datas, device):\n",
        "    imgs, angles = datas\n",
        "    return imgs.float().to(device), angles.float().to(device)\n",
        "\n",
        "for epoch in range(max_epochs):\n",
        "    model.to(device)\n",
        "\n",
        "    # Training\n",
        "    train_loss = 0\n",
        "    model.train()\n",
        "    for local_batch, (centers, lefts, rights) in enumerate(training_generator):\n",
        "        # Transfer to GPU\n",
        "        centers, lefts, rights = to_device(centers, device), to_device(lefts, device), to_device(rights, device)\n",
        "\n",
        "        # Model computations\n",
        "        optimizer.zero_grad()\n",
        "        for data in [centers, lefts, rights]:\n",
        "            imgs, angles = data\n",
        "            outputs = model(imgs)\n",
        "            loss = criterion(outputs, angles.unsqueeze(1))\n",
        "            loss.backward()\n",
        "            optimizer.step()\n",
        "            train_loss += loss.item()\n",
        "\n",
        "        if local_batch % 100 == 0:\n",
        "            print(f'Epoch [{epoch+1}/{max_epochs}], Batch [{local_batch+1}], Loss: {train_loss/((local_batch+1)*3):.3f}')\n",
        "\n",
        "    # Validation\n",
        "    model.eval()\n",
        "    valid_loss = 0\n",
        "    with torch.no_grad():\n",
        "        for local_batch, (centers, lefts, rights) in enumerate(validation_generator):\n",
        "            # Transfer to GPU\n",
        "            centers, lefts, rights = to_device(centers, device), to_device(lefts, device), to_device(rights, device)\n",
        "\n",
        "            # Model computations\n",
        "            optimizer.zero_grad()\n",
        "            for data in [centers, lefts, rights]:\n",
        "                imgs, angles = data\n",
        "                outputs = model(imgs)\n",
        "                loss = criterion(outputs, angles.unsqueeze(1))\n",
        "                valid_loss += loss.item()\n",
        "\n",
        "            avg_valid_loss = valid_loss/(local_batch+1)\n",
        "            if local_batch % 100 == 0:\n",
        "                print(f'Epoch [{epoch+1}/{max_epochs}], Validation Batch [{local_batch+1}], Valid Loss: {avg_valid_loss:.3f}')\n"
      ],
      "execution_count": 36,
      "outputs": [
        {
          "output_type": "stream",
          "name": "stdout",
          "text": [
            "torch.Size([32, 48, 4, 19])\n",
            "torch.Size([32, 48, 4, 19])\n",
            "torch.Size([32, 48, 4, 19])\n",
            "Epoch [1/1], Batch [1], Loss: 0.054\rtorch.Size([32, 48, 4, 19])\n",
            "torch.Size([32, 48, 4, 19])\n",
            "torch.Size([32, 48, 4, 19])\n",
            "torch.Size([32, 48, 4, 19])\n",
            "torch.Size([32, 48, 4, 19])\n",
            "torch.Size([32, 48, 4, 19])\n",
            "torch.Size([32, 48, 4, 19])\n",
            "torch.Size([32, 48, 4, 19])\n",
            "torch.Size([32, 48, 4, 19])\n",
            "torch.Size([32, 48, 4, 19])\n",
            "torch.Size([32, 48, 4, 19])\n",
            "torch.Size([32, 48, 4, 19])\n",
            "torch.Size([32, 48, 4, 19])\n",
            "torch.Size([32, 48, 4, 19])\n",
            "torch.Size([32, 48, 4, 19])\n",
            "torch.Size([32, 48, 4, 19])\n",
            "torch.Size([32, 48, 4, 19])\n",
            "torch.Size([32, 48, 4, 19])\n",
            "torch.Size([32, 48, 4, 19])\n",
            "torch.Size([32, 48, 4, 19])\n",
            "torch.Size([32, 48, 4, 19])\n",
            "torch.Size([32, 48, 4, 19])\n",
            "torch.Size([32, 48, 4, 19])\n",
            "torch.Size([32, 48, 4, 19])\n",
            "torch.Size([32, 48, 4, 19])\n",
            "torch.Size([32, 48, 4, 19])\n",
            "torch.Size([32, 48, 4, 19])\n",
            "torch.Size([32, 48, 4, 19])\n",
            "torch.Size([32, 48, 4, 19])\n",
            "torch.Size([32, 48, 4, 19])\n",
            "torch.Size([32, 48, 4, 19])\n",
            "torch.Size([32, 48, 4, 19])\n",
            "torch.Size([32, 48, 4, 19])\n",
            "torch.Size([32, 48, 4, 19])\n",
            "torch.Size([32, 48, 4, 19])\n",
            "torch.Size([32, 48, 4, 19])\n",
            "torch.Size([32, 48, 4, 19])\n",
            "torch.Size([32, 48, 4, 19])\n",
            "torch.Size([32, 48, 4, 19])\n",
            "torch.Size([32, 48, 4, 19])\n",
            "torch.Size([32, 48, 4, 19])\n",
            "torch.Size([32, 48, 4, 19])\n",
            "torch.Size([32, 48, 4, 19])\n",
            "torch.Size([32, 48, 4, 19])\n",
            "torch.Size([32, 48, 4, 19])\n",
            "torch.Size([32, 48, 4, 19])\n",
            "torch.Size([32, 48, 4, 19])\n",
            "torch.Size([32, 48, 4, 19])\n",
            "torch.Size([32, 48, 4, 19])\n",
            "torch.Size([32, 48, 4, 19])\n",
            "torch.Size([32, 48, 4, 19])\n",
            "torch.Size([32, 48, 4, 19])\n",
            "torch.Size([32, 48, 4, 19])\n",
            "torch.Size([32, 48, 4, 19])\n",
            "torch.Size([32, 48, 4, 19])\n",
            "torch.Size([32, 48, 4, 19])\n",
            "torch.Size([32, 48, 4, 19])\n",
            "torch.Size([32, 48, 4, 19])\n",
            "torch.Size([32, 48, 4, 19])\n",
            "torch.Size([32, 48, 4, 19])\n",
            "torch.Size([32, 48, 4, 19])\n",
            "torch.Size([32, 48, 4, 19])\n",
            "torch.Size([32, 48, 4, 19])\n",
            "torch.Size([32, 48, 4, 19])\n",
            "torch.Size([32, 48, 4, 19])\n",
            "torch.Size([32, 48, 4, 19])\n",
            "torch.Size([32, 48, 4, 19])\n",
            "torch.Size([32, 48, 4, 19])\n",
            "torch.Size([32, 48, 4, 19])\n",
            "torch.Size([32, 48, 4, 19])\n",
            "torch.Size([32, 48, 4, 19])\n",
            "torch.Size([32, 48, 4, 19])\n",
            "torch.Size([32, 48, 4, 19])\n",
            "torch.Size([32, 48, 4, 19])\n",
            "torch.Size([32, 48, 4, 19])\n",
            "torch.Size([32, 48, 4, 19])\n",
            "torch.Size([32, 48, 4, 19])\n",
            "torch.Size([32, 48, 4, 19])\n",
            "torch.Size([32, 48, 4, 19])\n",
            "torch.Size([32, 48, 4, 19])\n",
            "torch.Size([32, 48, 4, 19])\n",
            "torch.Size([32, 48, 4, 19])\n",
            "torch.Size([32, 48, 4, 19])\n",
            "torch.Size([32, 48, 4, 19])\n",
            "torch.Size([32, 48, 4, 19])\n",
            "torch.Size([32, 48, 4, 19])\n",
            "torch.Size([32, 48, 4, 19])\n",
            "torch.Size([32, 48, 4, 19])\n",
            "torch.Size([32, 48, 4, 19])\n",
            "torch.Size([32, 48, 4, 19])\n",
            "torch.Size([32, 48, 4, 19])\n",
            "torch.Size([32, 48, 4, 19])\n",
            "torch.Size([32, 48, 4, 19])\n",
            "torch.Size([32, 48, 4, 19])\n",
            "torch.Size([32, 48, 4, 19])\n",
            "torch.Size([32, 48, 4, 19])\n",
            "torch.Size([32, 48, 4, 19])\n",
            "torch.Size([32, 48, 4, 19])\n",
            "torch.Size([32, 48, 4, 19])\n",
            "torch.Size([32, 48, 4, 19])\n",
            "torch.Size([32, 48, 4, 19])\n",
            "torch.Size([32, 48, 4, 19])\n",
            "torch.Size([32, 48, 4, 19])\n",
            "torch.Size([32, 48, 4, 19])\n",
            "torch.Size([32, 48, 4, 19])\n",
            "torch.Size([32, 48, 4, 19])\n",
            "torch.Size([32, 48, 4, 19])\n",
            "torch.Size([32, 48, 4, 19])\n",
            "torch.Size([32, 48, 4, 19])\n",
            "torch.Size([32, 48, 4, 19])\n",
            "torch.Size([32, 48, 4, 19])\n",
            "torch.Size([32, 48, 4, 19])\n",
            "torch.Size([32, 48, 4, 19])\n",
            "torch.Size([32, 48, 4, 19])\n",
            "torch.Size([32, 48, 4, 19])\n",
            "torch.Size([32, 48, 4, 19])\n",
            "torch.Size([32, 48, 4, 19])\n",
            "torch.Size([32, 48, 4, 19])\n",
            "torch.Size([32, 48, 4, 19])\n",
            "torch.Size([32, 48, 4, 19])\n",
            "torch.Size([32, 48, 4, 19])\n",
            "torch.Size([32, 48, 4, 19])\n",
            "torch.Size([32, 48, 4, 19])\n",
            "torch.Size([32, 48, 4, 19])\n",
            "torch.Size([32, 48, 4, 19])\n",
            "torch.Size([32, 48, 4, 19])\n",
            "torch.Size([32, 48, 4, 19])\n",
            "torch.Size([32, 48, 4, 19])\n",
            "torch.Size([32, 48, 4, 19])\n"
          ]
        },
        {
          "output_type": "error",
          "ename": "KeyboardInterrupt",
          "evalue": "ignored",
          "traceback": [
            "\u001b[0;31m---------------------------------------------------------------------------\u001b[0m",
            "\u001b[0;31mKeyboardInterrupt\u001b[0m                         Traceback (most recent call last)",
            "\u001b[0;32m<ipython-input-36-6fe5ff063eba>\u001b[0m in \u001b[0;36m<cell line: 8>\u001b[0;34m()\u001b[0m\n\u001b[1;32m     12\u001b[0m     \u001b[0mtrain_loss\u001b[0m \u001b[0;34m=\u001b[0m \u001b[0;36m0\u001b[0m\u001b[0;34m\u001b[0m\u001b[0;34m\u001b[0m\u001b[0m\n\u001b[1;32m     13\u001b[0m     \u001b[0mmodel\u001b[0m\u001b[0;34m.\u001b[0m\u001b[0mtrain\u001b[0m\u001b[0;34m(\u001b[0m\u001b[0;34m)\u001b[0m\u001b[0;34m\u001b[0m\u001b[0;34m\u001b[0m\u001b[0m\n\u001b[0;32m---> 14\u001b[0;31m     \u001b[0;32mfor\u001b[0m \u001b[0mlocal_batch\u001b[0m\u001b[0;34m,\u001b[0m \u001b[0;34m(\u001b[0m\u001b[0mcenters\u001b[0m\u001b[0;34m,\u001b[0m \u001b[0mlefts\u001b[0m\u001b[0;34m,\u001b[0m \u001b[0mrights\u001b[0m\u001b[0;34m)\u001b[0m \u001b[0;32min\u001b[0m \u001b[0menumerate\u001b[0m\u001b[0;34m(\u001b[0m\u001b[0mtraining_generator\u001b[0m\u001b[0;34m)\u001b[0m\u001b[0;34m:\u001b[0m\u001b[0;34m\u001b[0m\u001b[0;34m\u001b[0m\u001b[0m\n\u001b[0m\u001b[1;32m     15\u001b[0m         \u001b[0;31m# Transfer to GPU\u001b[0m\u001b[0;34m\u001b[0m\u001b[0;34m\u001b[0m\u001b[0m\n\u001b[1;32m     16\u001b[0m         \u001b[0mcenters\u001b[0m\u001b[0;34m,\u001b[0m \u001b[0mlefts\u001b[0m\u001b[0;34m,\u001b[0m \u001b[0mrights\u001b[0m \u001b[0;34m=\u001b[0m \u001b[0mto_device\u001b[0m\u001b[0;34m(\u001b[0m\u001b[0mcenters\u001b[0m\u001b[0;34m,\u001b[0m \u001b[0mdevice\u001b[0m\u001b[0;34m)\u001b[0m\u001b[0;34m,\u001b[0m \u001b[0mto_device\u001b[0m\u001b[0;34m(\u001b[0m\u001b[0mlefts\u001b[0m\u001b[0;34m,\u001b[0m \u001b[0mdevice\u001b[0m\u001b[0;34m)\u001b[0m\u001b[0;34m,\u001b[0m \u001b[0mto_device\u001b[0m\u001b[0;34m(\u001b[0m\u001b[0mrights\u001b[0m\u001b[0;34m,\u001b[0m \u001b[0mdevice\u001b[0m\u001b[0;34m)\u001b[0m\u001b[0;34m\u001b[0m\u001b[0;34m\u001b[0m\u001b[0m\n",
            "\u001b[0;32m/usr/local/lib/python3.10/dist-packages/torch/utils/data/dataloader.py\u001b[0m in \u001b[0;36m__next__\u001b[0;34m(self)\u001b[0m\n\u001b[1;32m    628\u001b[0m                 \u001b[0;31m# TODO(https://github.com/pytorch/pytorch/issues/76750)\u001b[0m\u001b[0;34m\u001b[0m\u001b[0;34m\u001b[0m\u001b[0m\n\u001b[1;32m    629\u001b[0m                 \u001b[0mself\u001b[0m\u001b[0;34m.\u001b[0m\u001b[0m_reset\u001b[0m\u001b[0;34m(\u001b[0m\u001b[0;34m)\u001b[0m  \u001b[0;31m# type: ignore[call-arg]\u001b[0m\u001b[0;34m\u001b[0m\u001b[0;34m\u001b[0m\u001b[0m\n\u001b[0;32m--> 630\u001b[0;31m             \u001b[0mdata\u001b[0m \u001b[0;34m=\u001b[0m \u001b[0mself\u001b[0m\u001b[0;34m.\u001b[0m\u001b[0m_next_data\u001b[0m\u001b[0;34m(\u001b[0m\u001b[0;34m)\u001b[0m\u001b[0;34m\u001b[0m\u001b[0;34m\u001b[0m\u001b[0m\n\u001b[0m\u001b[1;32m    631\u001b[0m             \u001b[0mself\u001b[0m\u001b[0;34m.\u001b[0m\u001b[0m_num_yielded\u001b[0m \u001b[0;34m+=\u001b[0m \u001b[0;36m1\u001b[0m\u001b[0;34m\u001b[0m\u001b[0;34m\u001b[0m\u001b[0m\n\u001b[1;32m    632\u001b[0m             \u001b[0;32mif\u001b[0m \u001b[0mself\u001b[0m\u001b[0;34m.\u001b[0m\u001b[0m_dataset_kind\u001b[0m \u001b[0;34m==\u001b[0m \u001b[0m_DatasetKind\u001b[0m\u001b[0;34m.\u001b[0m\u001b[0mIterable\u001b[0m \u001b[0;32mand\u001b[0m\u001b[0;31m \u001b[0m\u001b[0;31m\\\u001b[0m\u001b[0;34m\u001b[0m\u001b[0;34m\u001b[0m\u001b[0m\n",
            "\u001b[0;32m/usr/local/lib/python3.10/dist-packages/torch/utils/data/dataloader.py\u001b[0m in \u001b[0;36m_next_data\u001b[0;34m(self)\u001b[0m\n\u001b[1;32m   1326\u001b[0m \u001b[0;34m\u001b[0m\u001b[0m\n\u001b[1;32m   1327\u001b[0m             \u001b[0;32massert\u001b[0m \u001b[0;32mnot\u001b[0m \u001b[0mself\u001b[0m\u001b[0;34m.\u001b[0m\u001b[0m_shutdown\u001b[0m \u001b[0;32mand\u001b[0m \u001b[0mself\u001b[0m\u001b[0;34m.\u001b[0m\u001b[0m_tasks_outstanding\u001b[0m \u001b[0;34m>\u001b[0m \u001b[0;36m0\u001b[0m\u001b[0;34m\u001b[0m\u001b[0;34m\u001b[0m\u001b[0m\n\u001b[0;32m-> 1328\u001b[0;31m             \u001b[0midx\u001b[0m\u001b[0;34m,\u001b[0m \u001b[0mdata\u001b[0m \u001b[0;34m=\u001b[0m \u001b[0mself\u001b[0m\u001b[0;34m.\u001b[0m\u001b[0m_get_data\u001b[0m\u001b[0;34m(\u001b[0m\u001b[0;34m)\u001b[0m\u001b[0;34m\u001b[0m\u001b[0;34m\u001b[0m\u001b[0m\n\u001b[0m\u001b[1;32m   1329\u001b[0m             \u001b[0mself\u001b[0m\u001b[0;34m.\u001b[0m\u001b[0m_tasks_outstanding\u001b[0m \u001b[0;34m-=\u001b[0m \u001b[0;36m1\u001b[0m\u001b[0;34m\u001b[0m\u001b[0;34m\u001b[0m\u001b[0m\n\u001b[1;32m   1330\u001b[0m             \u001b[0;32mif\u001b[0m \u001b[0mself\u001b[0m\u001b[0;34m.\u001b[0m\u001b[0m_dataset_kind\u001b[0m \u001b[0;34m==\u001b[0m \u001b[0m_DatasetKind\u001b[0m\u001b[0;34m.\u001b[0m\u001b[0mIterable\u001b[0m\u001b[0;34m:\u001b[0m\u001b[0;34m\u001b[0m\u001b[0;34m\u001b[0m\u001b[0m\n",
            "\u001b[0;32m/usr/local/lib/python3.10/dist-packages/torch/utils/data/dataloader.py\u001b[0m in \u001b[0;36m_get_data\u001b[0;34m(self)\u001b[0m\n\u001b[1;32m   1292\u001b[0m         \u001b[0;32melse\u001b[0m\u001b[0;34m:\u001b[0m\u001b[0;34m\u001b[0m\u001b[0;34m\u001b[0m\u001b[0m\n\u001b[1;32m   1293\u001b[0m             \u001b[0;32mwhile\u001b[0m \u001b[0;32mTrue\u001b[0m\u001b[0;34m:\u001b[0m\u001b[0;34m\u001b[0m\u001b[0;34m\u001b[0m\u001b[0m\n\u001b[0;32m-> 1294\u001b[0;31m                 \u001b[0msuccess\u001b[0m\u001b[0;34m,\u001b[0m \u001b[0mdata\u001b[0m \u001b[0;34m=\u001b[0m \u001b[0mself\u001b[0m\u001b[0;34m.\u001b[0m\u001b[0m_try_get_data\u001b[0m\u001b[0;34m(\u001b[0m\u001b[0;34m)\u001b[0m\u001b[0;34m\u001b[0m\u001b[0;34m\u001b[0m\u001b[0m\n\u001b[0m\u001b[1;32m   1295\u001b[0m                 \u001b[0;32mif\u001b[0m \u001b[0msuccess\u001b[0m\u001b[0;34m:\u001b[0m\u001b[0;34m\u001b[0m\u001b[0;34m\u001b[0m\u001b[0m\n\u001b[1;32m   1296\u001b[0m                     \u001b[0;32mreturn\u001b[0m \u001b[0mdata\u001b[0m\u001b[0;34m\u001b[0m\u001b[0;34m\u001b[0m\u001b[0m\n",
            "\u001b[0;32m/usr/local/lib/python3.10/dist-packages/torch/utils/data/dataloader.py\u001b[0m in \u001b[0;36m_try_get_data\u001b[0;34m(self, timeout)\u001b[0m\n\u001b[1;32m   1130\u001b[0m         \u001b[0;31m#   (bool: whether successfully get data, any: data if successful else None)\u001b[0m\u001b[0;34m\u001b[0m\u001b[0;34m\u001b[0m\u001b[0m\n\u001b[1;32m   1131\u001b[0m         \u001b[0;32mtry\u001b[0m\u001b[0;34m:\u001b[0m\u001b[0;34m\u001b[0m\u001b[0;34m\u001b[0m\u001b[0m\n\u001b[0;32m-> 1132\u001b[0;31m             \u001b[0mdata\u001b[0m \u001b[0;34m=\u001b[0m \u001b[0mself\u001b[0m\u001b[0;34m.\u001b[0m\u001b[0m_data_queue\u001b[0m\u001b[0;34m.\u001b[0m\u001b[0mget\u001b[0m\u001b[0;34m(\u001b[0m\u001b[0mtimeout\u001b[0m\u001b[0;34m=\u001b[0m\u001b[0mtimeout\u001b[0m\u001b[0;34m)\u001b[0m\u001b[0;34m\u001b[0m\u001b[0;34m\u001b[0m\u001b[0m\n\u001b[0m\u001b[1;32m   1133\u001b[0m             \u001b[0;32mreturn\u001b[0m \u001b[0;34m(\u001b[0m\u001b[0;32mTrue\u001b[0m\u001b[0;34m,\u001b[0m \u001b[0mdata\u001b[0m\u001b[0;34m)\u001b[0m\u001b[0;34m\u001b[0m\u001b[0;34m\u001b[0m\u001b[0m\n\u001b[1;32m   1134\u001b[0m         \u001b[0;32mexcept\u001b[0m \u001b[0mException\u001b[0m \u001b[0;32mas\u001b[0m \u001b[0me\u001b[0m\u001b[0;34m:\u001b[0m\u001b[0;34m\u001b[0m\u001b[0;34m\u001b[0m\u001b[0m\n",
            "\u001b[0;32m/usr/lib/python3.10/multiprocessing/queues.py\u001b[0m in \u001b[0;36mget\u001b[0;34m(self, block, timeout)\u001b[0m\n\u001b[1;32m    111\u001b[0m                 \u001b[0;32mif\u001b[0m \u001b[0mblock\u001b[0m\u001b[0;34m:\u001b[0m\u001b[0;34m\u001b[0m\u001b[0;34m\u001b[0m\u001b[0m\n\u001b[1;32m    112\u001b[0m                     \u001b[0mtimeout\u001b[0m \u001b[0;34m=\u001b[0m \u001b[0mdeadline\u001b[0m \u001b[0;34m-\u001b[0m \u001b[0mtime\u001b[0m\u001b[0;34m.\u001b[0m\u001b[0mmonotonic\u001b[0m\u001b[0;34m(\u001b[0m\u001b[0;34m)\u001b[0m\u001b[0;34m\u001b[0m\u001b[0;34m\u001b[0m\u001b[0m\n\u001b[0;32m--> 113\u001b[0;31m                     \u001b[0;32mif\u001b[0m \u001b[0;32mnot\u001b[0m \u001b[0mself\u001b[0m\u001b[0;34m.\u001b[0m\u001b[0m_poll\u001b[0m\u001b[0;34m(\u001b[0m\u001b[0mtimeout\u001b[0m\u001b[0;34m)\u001b[0m\u001b[0;34m:\u001b[0m\u001b[0;34m\u001b[0m\u001b[0;34m\u001b[0m\u001b[0m\n\u001b[0m\u001b[1;32m    114\u001b[0m                         \u001b[0;32mraise\u001b[0m \u001b[0mEmpty\u001b[0m\u001b[0;34m\u001b[0m\u001b[0;34m\u001b[0m\u001b[0m\n\u001b[1;32m    115\u001b[0m                 \u001b[0;32melif\u001b[0m \u001b[0;32mnot\u001b[0m \u001b[0mself\u001b[0m\u001b[0;34m.\u001b[0m\u001b[0m_poll\u001b[0m\u001b[0;34m(\u001b[0m\u001b[0;34m)\u001b[0m\u001b[0;34m:\u001b[0m\u001b[0;34m\u001b[0m\u001b[0;34m\u001b[0m\u001b[0m\n",
            "\u001b[0;32m/usr/lib/python3.10/multiprocessing/connection.py\u001b[0m in \u001b[0;36mpoll\u001b[0;34m(self, timeout)\u001b[0m\n\u001b[1;32m    255\u001b[0m         \u001b[0mself\u001b[0m\u001b[0;34m.\u001b[0m\u001b[0m_check_closed\u001b[0m\u001b[0;34m(\u001b[0m\u001b[0;34m)\u001b[0m\u001b[0;34m\u001b[0m\u001b[0;34m\u001b[0m\u001b[0m\n\u001b[1;32m    256\u001b[0m         \u001b[0mself\u001b[0m\u001b[0;34m.\u001b[0m\u001b[0m_check_readable\u001b[0m\u001b[0;34m(\u001b[0m\u001b[0;34m)\u001b[0m\u001b[0;34m\u001b[0m\u001b[0;34m\u001b[0m\u001b[0m\n\u001b[0;32m--> 257\u001b[0;31m         \u001b[0;32mreturn\u001b[0m \u001b[0mself\u001b[0m\u001b[0;34m.\u001b[0m\u001b[0m_poll\u001b[0m\u001b[0;34m(\u001b[0m\u001b[0mtimeout\u001b[0m\u001b[0;34m)\u001b[0m\u001b[0;34m\u001b[0m\u001b[0;34m\u001b[0m\u001b[0m\n\u001b[0m\u001b[1;32m    258\u001b[0m \u001b[0;34m\u001b[0m\u001b[0m\n\u001b[1;32m    259\u001b[0m     \u001b[0;32mdef\u001b[0m \u001b[0m__enter__\u001b[0m\u001b[0;34m(\u001b[0m\u001b[0mself\u001b[0m\u001b[0;34m)\u001b[0m\u001b[0;34m:\u001b[0m\u001b[0;34m\u001b[0m\u001b[0;34m\u001b[0m\u001b[0m\n",
            "\u001b[0;32m/usr/lib/python3.10/multiprocessing/connection.py\u001b[0m in \u001b[0;36m_poll\u001b[0;34m(self, timeout)\u001b[0m\n\u001b[1;32m    422\u001b[0m \u001b[0;34m\u001b[0m\u001b[0m\n\u001b[1;32m    423\u001b[0m     \u001b[0;32mdef\u001b[0m \u001b[0m_poll\u001b[0m\u001b[0;34m(\u001b[0m\u001b[0mself\u001b[0m\u001b[0;34m,\u001b[0m \u001b[0mtimeout\u001b[0m\u001b[0;34m)\u001b[0m\u001b[0;34m:\u001b[0m\u001b[0;34m\u001b[0m\u001b[0;34m\u001b[0m\u001b[0m\n\u001b[0;32m--> 424\u001b[0;31m         \u001b[0mr\u001b[0m \u001b[0;34m=\u001b[0m \u001b[0mwait\u001b[0m\u001b[0;34m(\u001b[0m\u001b[0;34m[\u001b[0m\u001b[0mself\u001b[0m\u001b[0;34m]\u001b[0m\u001b[0;34m,\u001b[0m \u001b[0mtimeout\u001b[0m\u001b[0;34m)\u001b[0m\u001b[0;34m\u001b[0m\u001b[0;34m\u001b[0m\u001b[0m\n\u001b[0m\u001b[1;32m    425\u001b[0m         \u001b[0;32mreturn\u001b[0m \u001b[0mbool\u001b[0m\u001b[0;34m(\u001b[0m\u001b[0mr\u001b[0m\u001b[0;34m)\u001b[0m\u001b[0;34m\u001b[0m\u001b[0;34m\u001b[0m\u001b[0m\n\u001b[1;32m    426\u001b[0m \u001b[0;34m\u001b[0m\u001b[0m\n",
            "\u001b[0;32m/usr/lib/python3.10/multiprocessing/connection.py\u001b[0m in \u001b[0;36mwait\u001b[0;34m(object_list, timeout)\u001b[0m\n\u001b[1;32m    929\u001b[0m \u001b[0;34m\u001b[0m\u001b[0m\n\u001b[1;32m    930\u001b[0m             \u001b[0;32mwhile\u001b[0m \u001b[0;32mTrue\u001b[0m\u001b[0;34m:\u001b[0m\u001b[0;34m\u001b[0m\u001b[0;34m\u001b[0m\u001b[0m\n\u001b[0;32m--> 931\u001b[0;31m                 \u001b[0mready\u001b[0m \u001b[0;34m=\u001b[0m \u001b[0mselector\u001b[0m\u001b[0;34m.\u001b[0m\u001b[0mselect\u001b[0m\u001b[0;34m(\u001b[0m\u001b[0mtimeout\u001b[0m\u001b[0;34m)\u001b[0m\u001b[0;34m\u001b[0m\u001b[0;34m\u001b[0m\u001b[0m\n\u001b[0m\u001b[1;32m    932\u001b[0m                 \u001b[0;32mif\u001b[0m \u001b[0mready\u001b[0m\u001b[0;34m:\u001b[0m\u001b[0;34m\u001b[0m\u001b[0;34m\u001b[0m\u001b[0m\n\u001b[1;32m    933\u001b[0m                     \u001b[0;32mreturn\u001b[0m \u001b[0;34m[\u001b[0m\u001b[0mkey\u001b[0m\u001b[0;34m.\u001b[0m\u001b[0mfileobj\u001b[0m \u001b[0;32mfor\u001b[0m \u001b[0;34m(\u001b[0m\u001b[0mkey\u001b[0m\u001b[0;34m,\u001b[0m \u001b[0mevents\u001b[0m\u001b[0;34m)\u001b[0m \u001b[0;32min\u001b[0m \u001b[0mready\u001b[0m\u001b[0;34m]\u001b[0m\u001b[0;34m\u001b[0m\u001b[0;34m\u001b[0m\u001b[0m\n",
            "\u001b[0;32m/usr/lib/python3.10/selectors.py\u001b[0m in \u001b[0;36mselect\u001b[0;34m(self, timeout)\u001b[0m\n\u001b[1;32m    414\u001b[0m         \u001b[0mready\u001b[0m \u001b[0;34m=\u001b[0m \u001b[0;34m[\u001b[0m\u001b[0;34m]\u001b[0m\u001b[0;34m\u001b[0m\u001b[0;34m\u001b[0m\u001b[0m\n\u001b[1;32m    415\u001b[0m         \u001b[0;32mtry\u001b[0m\u001b[0;34m:\u001b[0m\u001b[0;34m\u001b[0m\u001b[0;34m\u001b[0m\u001b[0m\n\u001b[0;32m--> 416\u001b[0;31m             \u001b[0mfd_event_list\u001b[0m \u001b[0;34m=\u001b[0m \u001b[0mself\u001b[0m\u001b[0;34m.\u001b[0m\u001b[0m_selector\u001b[0m\u001b[0;34m.\u001b[0m\u001b[0mpoll\u001b[0m\u001b[0;34m(\u001b[0m\u001b[0mtimeout\u001b[0m\u001b[0;34m)\u001b[0m\u001b[0;34m\u001b[0m\u001b[0;34m\u001b[0m\u001b[0m\n\u001b[0m\u001b[1;32m    417\u001b[0m         \u001b[0;32mexcept\u001b[0m \u001b[0mInterruptedError\u001b[0m\u001b[0;34m:\u001b[0m\u001b[0;34m\u001b[0m\u001b[0;34m\u001b[0m\u001b[0m\n\u001b[1;32m    418\u001b[0m             \u001b[0;32mreturn\u001b[0m \u001b[0mready\u001b[0m\u001b[0;34m\u001b[0m\u001b[0;34m\u001b[0m\u001b[0m\n",
            "\u001b[0;31mKeyboardInterrupt\u001b[0m: "
          ]
        }
      ]
    },
    {
      "cell_type": "markdown",
      "source": [
        "# Plot Errors"
      ],
      "metadata": {
        "id": "SeHZCPr3vrNG"
      }
    },
    {
      "cell_type": "code",
      "source": [],
      "metadata": {
        "id": "Ok4ZY4o-vuNH"
      },
      "execution_count": null,
      "outputs": []
    },
    {
      "cell_type": "markdown",
      "source": [
        "# Save Model to disk"
      ],
      "metadata": {
        "id": "pCq6FEtTvnvr"
      }
    },
    {
      "metadata": {
        "id": "8jH0DLUi8fC_"
      },
      "cell_type": "code",
      "source": [
        "state = {\n",
        "        'model': model.module if device == 'cuda' else model,\n",
        "        }\n",
        "\n",
        "torch.save(state, 'model.h5')"
      ],
      "execution_count": 37,
      "outputs": []
    }
  ]
}